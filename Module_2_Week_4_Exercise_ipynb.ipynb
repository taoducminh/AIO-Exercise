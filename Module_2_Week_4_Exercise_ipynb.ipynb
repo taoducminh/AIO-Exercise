{
  "nbformat": 4,
  "nbformat_minor": 0,
  "metadata": {
    "colab": {
      "provenance": [],
      "authorship_tag": "ABX9TyOJM49NzVjb9aGI0c5mEWBB",
      "include_colab_link": true
    },
    "kernelspec": {
      "name": "python3",
      "display_name": "Python 3"
    },
    "language_info": {
      "name": "python"
    }
  },
  "cells": [
    {
      "cell_type": "markdown",
      "metadata": {
        "id": "view-in-github",
        "colab_type": "text"
      },
      "source": [
        "<a href=\"https://colab.research.google.com/github/taoducminh/AIO-Exercise/blob/feature%2Fexercise-module2-week4/Module_2_Week_4_Exercise_ipynb.ipynb\" target=\"_parent\"><img src=\"https://colab.research.google.com/assets/colab-badge.svg\" alt=\"Open In Colab\"/></a>"
      ]
    },
    {
      "cell_type": "markdown",
      "source": [
        "#1. BASIC PROBABILITY"
      ],
      "metadata": {
        "id": "ZyQe_1-IoIvz"
      }
    },
    {
      "cell_type": "code",
      "execution_count": 1,
      "metadata": {
        "id": "RDYN8cPNnVB2"
      },
      "outputs": [],
      "source": [
        "import numpy as np"
      ]
    },
    {
      "cell_type": "code",
      "source": [
        "### Question 1\n",
        "import numpy as np\n",
        "\n",
        "def compute_mean(X):\n",
        "    # your code here **************************\n",
        "    return np.mean(X)\n",
        "\n",
        "X = [2, 0, 2, 2, 7, 4, -2, 5, -1, -1]\n",
        "print(\"Mean: \", compute_mean(X))"
      ],
      "metadata": {
        "colab": {
          "base_uri": "https://localhost:8080/"
        },
        "id": "reLiQIvKoZh-",
        "outputId": "09a4f010-1055-4b0c-fc77-aa8e9afded04"
      },
      "execution_count": 3,
      "outputs": [
        {
          "output_type": "stream",
          "name": "stdout",
          "text": [
            "Mean:  1.8\n"
          ]
        }
      ]
    },
    {
      "cell_type": "code",
      "source": [
        "### Question 2\n",
        "import numpy as np\n",
        "\n",
        "def compute_median(X):\n",
        "    size = len(X)\n",
        "    X = np.sort(X)\n",
        "    print(X)\n",
        "    if size % 2 == 0:\n",
        "        # your code here **************************\n",
        "        return (X[size // 2 - 1] + X[size // 2]) / 2\n",
        "    else:\n",
        "        # your code here **************************\n",
        "        return X[size // 2]\n",
        "\n",
        "X = [1, 5, 4, 4, 9, 13]\n",
        "print(\"Median: \", compute_median(X))"
      ],
      "metadata": {
        "colab": {
          "base_uri": "https://localhost:8080/"
        },
        "id": "Q-bfe3FSoiRP",
        "outputId": "ae10242b-9ca2-4c96-d898-21c824adb9ef"
      },
      "execution_count": 4,
      "outputs": [
        {
          "output_type": "stream",
          "name": "stdout",
          "text": [
            "[ 1  4  4  5  9 13]\n",
            "Median:  4.5\n"
          ]
        }
      ]
    },
    {
      "cell_type": "code",
      "source": [
        "### Question 3\n",
        "import numpy as np\n",
        "\n",
        "def compute_mean(X):\n",
        "    return np.mean(X)\n",
        "\n",
        "def compute_std(X):\n",
        "    mean = compute_mean(X)\n",
        "    variance = 0\n",
        "    # your code here **************************\n",
        "    variance = np.mean([(x - mean) ** 2 for x in X])\n",
        "    return np.sqrt(variance)\n",
        "\n",
        "X = [171, 176, 155, 167, 169, 182]\n",
        "print(compute_std(X))"
      ],
      "metadata": {
        "colab": {
          "base_uri": "https://localhost:8080/"
        },
        "id": "CFR0pnc_pQ-3",
        "outputId": "031cc4b7-9bb1-4d12-bbe9-3c4520c89350"
      },
      "execution_count": 5,
      "outputs": [
        {
          "output_type": "stream",
          "name": "stdout",
          "text": [
            "8.32666399786453\n"
          ]
        }
      ]
    },
    {
      "cell_type": "code",
      "source": [
        "### Question 4\n",
        "import numpy as np\n",
        "\n",
        "def compute_mean(X):\n",
        "    return np.mean(X)\n",
        "\n",
        "def compute_std(X):\n",
        "    mean = compute_mean(X)\n",
        "    variance = np.mean([(x - mean) ** 2 for x in X])\n",
        "    return np.sqrt(variance)\n",
        "\n",
        "def compute_correlation_coefficient(X, Y):\n",
        "    N = len(X)\n",
        "    numerator = 0\n",
        "    denominator = 0\n",
        "    # your code here **************************\n",
        "    mean_X = compute_mean(X)\n",
        "    mean_Y = compute_mean(Y)\n",
        "    std_X = compute_std(X)\n",
        "    std_Y = compute_std(Y)\n",
        "\n",
        "    covariance = np.mean([(X[i] - mean_X) * (Y[i] - mean_Y) for i in range(N)])\n",
        "    correlation = covariance / (std_X * std_Y)\n",
        "\n",
        "    return np.round(correlation, 2)\n",
        "\n",
        "X = np.asarray([-2, -5, -11, 6, 4, 15, 9])\n",
        "Y = np.asarray([4, 25, 121, 36, 16, 225, 81])\n",
        "print(\"Correlation: \", compute_correlation_coefficient(X, Y))"
      ],
      "metadata": {
        "colab": {
          "base_uri": "https://localhost:8080/"
        },
        "id": "iYruvhsxpaKO",
        "outputId": "33d0cd4f-a256-4e6e-f2dd-e300efe45323"
      },
      "execution_count": 6,
      "outputs": [
        {
          "output_type": "stream",
          "name": "stdout",
          "text": [
            "Correlation:  0.42\n"
          ]
        }
      ]
    },
    {
      "cell_type": "markdown",
      "source": [
        "#2. TABULAR DATA ANALYSIS"
      ],
      "metadata": {
        "id": "4lLDPmUFpxfL"
      }
    },
    {
      "cell_type": "code",
      "source": [
        "# Download dataset: !gdown 1iA0WmVf88HyJvTBSQDI5vesf-pgKabq\n",
        "import pandas as pd\n",
        "\n",
        "data = pd.read_csv(\"advertising.csv\")\n",
        "\n",
        "def correlation(x, y):\n",
        "    # Your code here #\n",
        "    return x.corr(y)\n",
        "\n",
        "# Example usage:\n",
        "x = data['TV']\n",
        "y = data['Radio']\n",
        "corr_xy = correlation(x, y)\n",
        "print(f\"Correlation between TV and Sales: {round(corr_xy, 2)}\")"
      ],
      "metadata": {
        "id": "BnJzEaGMqk8b"
      },
      "execution_count": null,
      "outputs": []
    },
    {
      "cell_type": "code",
      "source": [
        "data = pd.read_csv(\"advertising.csv\")\n",
        "\n",
        "def correlation(x, y):\n",
        "    # Your code here #\n",
        "    return x.corr(y)\n",
        "\n",
        "features = ['TV', 'Radio', 'Newspaper']\n",
        "\n",
        "for feature_1 in features:\n",
        "    for feature_2 in features:\n",
        "        correlation_value = correlation(data[feature_1], data[feature_2])\n",
        "        print(f\"Correlation between {feature_1} and {feature_2}: {round(correlation_value, 2)}\")"
      ],
      "metadata": {
        "id": "Vjs7cmajqms6"
      },
      "execution_count": null,
      "outputs": []
    },
    {
      "cell_type": "code",
      "source": [
        "data = pd.read_csv(\"advertising.csv\")\n",
        "x = data['Radio']\n",
        "y = data['Newspaper']\n",
        "\n",
        "result = np.corrcoef(x, y)\n",
        "print(result)"
      ],
      "metadata": {
        "id": "_p5K3_fRqpI7"
      },
      "execution_count": null,
      "outputs": []
    },
    {
      "cell_type": "code",
      "source": [
        "data = pd.read_csv(\"advertising.csv\")\n",
        "x = data['Radio']\n",
        "y = data['Newspaper']\n",
        "\n",
        "result = np.corrcoef(x, y)\n",
        "print(result)"
      ],
      "metadata": {
        "id": "vruAFDlyqrb1"
      },
      "execution_count": null,
      "outputs": []
    },
    {
      "cell_type": "code",
      "source": [
        "### Question 13\n",
        "import matplotlib.pyplot as plt\n",
        "import seaborn as sns\n",
        "\n",
        "data = pd.read_csv(\"advertising.csv\")\n",
        "\n",
        "plt.figure(figsize=(10,8))\n",
        "# Your code here #\n",
        "data_corr = data.corr()\n",
        "sns.heatmap(data_corr, annot=True, fmt=\".2f\", linewidth=.5)\n",
        "plt.show()"
      ],
      "metadata": {
        "id": "ysTYGpZzqvsx"
      },
      "execution_count": null,
      "outputs": []
    },
    {
      "cell_type": "markdown",
      "source": [
        "#3. TEXT RETRIEVAL"
      ],
      "metadata": {
        "id": "lQsLaAm4q6W-"
      }
    },
    {
      "cell_type": "code",
      "source": [
        "# Download dataset: !gdown 1jh2p2DIaWsDo_vEWlTcTrNh3mUuXd-cw6\n",
        "import pandas as pd\n",
        "import numpy as np\n",
        "from sklearn.metrics.pairwise import cosine_similarity\n",
        "from sklearn.feature_extraction.text import TfidfVectorizer\n",
        "\n",
        "vi_data_df = pd.read_csv(\"./vi_text_retrieval.csv\")\n",
        "context = vi_data_df['text']\n",
        "context = [doc.lower() for doc in context]\n",
        "\n",
        "tfidf_vectorizer = TfidfVectorizer()\n",
        "context_embedded = tfidf_vectorizer.fit_transform(context)\n",
        "context_embedded.toarray()[7][0]"
      ],
      "metadata": {
        "id": "ExW7MK-CrxUt"
      },
      "execution_count": null,
      "outputs": []
    },
    {
      "cell_type": "code",
      "source": [
        "def tfidf_search(question, tfidf_vectorizer, top_d=5):\n",
        "    # lowercasing before encoding\n",
        "    query_embedded = tfidf_vectorizer.transform([question.lower()])\n",
        "    cosine_scores = cosine_similarity(query_embedded, context_embedded).flatten()\n",
        "\n",
        "    # Get top k cosine scores and index its\n",
        "    results = []\n",
        "    for idx in cosine_scores.argsort()[-top_d:][::-1]:\n",
        "        doc_score = {\n",
        "            'id': idx,\n",
        "            'cosine_score': cosine_scores[idx]\n",
        "        }\n",
        "        results.append(doc_score)\n",
        "    return results\n",
        "\n",
        "question = vi_data_df.iloc[0]['question']\n",
        "results = tfidf_search(question, tfidf_vectorizer, top_d=5)\n",
        "results[0]['cosine_score']"
      ],
      "metadata": {
        "id": "3ddvmU7rryPS"
      },
      "execution_count": null,
      "outputs": []
    },
    {
      "cell_type": "code",
      "source": [
        "def corr_search(question, tfidf_vectorizer, top_d=5):\n",
        "    # lowercasing before encoding\n",
        "    query_embedded = tfidf_vectorizer.transform([question.lower()])\n",
        "    corr_scores = np.corrcoef(query_embedded.toarray(), context_embedded.toarray())[0][1:]\n",
        "\n",
        "    # Get top k correlation scores and index its\n",
        "    results = []\n",
        "    for idx in corr_scores.argsort()[-top_d:][::-1]:\n",
        "        doc = {\n",
        "            'id': idx,\n",
        "            'corr_score': corr_scores[idx]\n",
        "        }\n",
        "        results.append(doc)\n",
        "    return results\n",
        "\n",
        "question = vi_data_df.iloc[0]['question']\n",
        "results = corr_search(question, tfidf_vectorizer, top_d=5)\n",
        "results[1]['corr_score']"
      ],
      "metadata": {
        "id": "TA5WoD0Qr5Eh"
      },
      "execution_count": null,
      "outputs": []
    }
  ]
}