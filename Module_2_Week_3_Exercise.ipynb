{
  "nbformat": 4,
  "nbformat_minor": 0,
  "metadata": {
    "colab": {
      "provenance": [],
      "authorship_tag": "ABX9TyOU2ypIfn4cmy7QG/PiR2K7",
      "include_colab_link": true
    },
    "kernelspec": {
      "name": "python3",
      "display_name": "Python 3"
    },
    "language_info": {
      "name": "python"
    }
  },
  "cells": [
    {
      "cell_type": "markdown",
      "metadata": {
        "id": "view-in-github",
        "colab_type": "text"
      },
      "source": [
        "<a href=\"https://colab.research.google.com/github/taoducminh/AIO-Exercise/blob/feature%2Fexercise-module2-week3/Module_2_Week_3_Exercise.ipynb\" target=\"_parent\"><img src=\"https://colab.research.google.com/assets/colab-badge.svg\" alt=\"Open In Colab\"/></a>"
      ]
    },
    {
      "cell_type": "markdown",
      "source": [
        "#1. BINARY CLASSIFICATION - PLAY TENNIS"
      ],
      "metadata": {
        "id": "n2VDePmS5Wyk"
      }
    },
    {
      "cell_type": "code",
      "source": [
        "import numpy as np\n",
        "\n",
        "# Training data\n",
        "data = np.array([\n",
        "    ['Sunny', 'Hot', 'High', 'Weak', 'No'],\n",
        "    ['Sunny', 'Hot', 'High', 'Strong', 'No'],\n",
        "    ['Overcast', 'Hot', 'High', 'Weak', 'Yes'],\n",
        "    ['Rain', 'Mild', 'High', 'Weak', 'Yes'],\n",
        "    ['Rain', 'Cool', 'Normal', 'Weak', 'Yes'],\n",
        "    ['Rain', 'Cool', 'Normal', 'Strong', 'No'],\n",
        "    ['Overcast', 'Cool', 'Normal', 'Strong', 'Yes'],\n",
        "    ['Overcast', 'Mild', 'High', 'Weak', 'No'],\n",
        "    ['Sunny', 'Cool', 'Normal', 'Weak', 'Yes'],\n",
        "    ['Rain', 'Mild', 'Normal', 'Weak', 'Yes']\n",
        "])\n",
        "\n",
        "# Test case\n",
        "X = ['Sunny', 'Cool', 'High', 'Strong']\n",
        "\n",
        "def calculate_prior(data):\n",
        "    classes, counts = np.unique(data[:, -1], return_counts=True)\n",
        "    priors = counts / data.shape[0]\n",
        "    return dict(zip(classes, priors))\n",
        "\n",
        "def calculate_likelihood(data, feature_idx, feature_val, label):\n",
        "    feature_data = data[data[:, -1] == label]\n",
        "    feature_counts = np.sum(feature_data[:, feature_idx] == feature_val)\n",
        "    return feature_counts / feature_data.shape[0]\n",
        "\n",
        "def naive_bayes_predict(data, X):\n",
        "    labels = np.unique(data[:, -1])\n",
        "    priors = calculate_prior(data)\n",
        "\n",
        "    posteriors = {}\n",
        "    for label in labels:\n",
        "        likelihood = priors[label]\n",
        "        for i in range(len(X)):\n",
        "            likelihood *= calculate_likelihood(data, i, X[i], label)\n",
        "        posteriors[label] = likelihood\n",
        "\n",
        "    return posteriors\n",
        "\n",
        "# Calculate the prior probabilities\n",
        "priors = calculate_prior(data)\n",
        "print(\"Prior probabilities:\", priors)\n",
        "\n",
        "# Calculate the posterior probabilities for the given test case\n",
        "posteriors = naive_bayes_predict(data, X)\n",
        "print(\"Posterior probabilities:\", posteriors)\n",
        "\n",
        "# Determine the final prediction\n",
        "prediction = max(posteriors, key=posteriors.get)\n",
        "print(\"Prediction for Play Tennis:\", prediction)\n",
        "\n",
        "# Answering the questions:\n",
        "\n",
        "# Question 1: Prior probabilities\n",
        "print(\"\\nCâu hỏi 1: Prior probabilities\")\n",
        "print(\"a) P(Play Tennis = Yes) = 6/10, P(Play Tennis = No) = 4/10\")\n",
        "\n",
        "# Question 2: Posterior probability for Play Tennis = Yes\n",
        "print(\"\\nCâu hỏi 2: Posterior probability for Play Tennis = Yes\")\n",
        "p_yes = posteriors['Yes']\n",
        "print(f\"a) P(Play Tennis = Yes | X) ∝ {p_yes:.4f}\")\n",
        "\n",
        "# Question 3: Posterior probability for Play Tennis = No\n",
        "print(\"\\nCâu hỏi 3: Posterior probability for Play Tennis = No\")\n",
        "p_no = posteriors['No']\n",
        "print(f\"c) P(Play Tennis = No | X) ∝ {p_no:.4f}\")\n",
        "\n",
        "# Question 4: Final prediction\n",
        "print(\"\\nCâu hỏi 4: Final prediction\")\n",
        "print(f\"b) Play Tennis = {prediction}\")\n",
        "\n",
        "# Answer values for comparison:\n",
        "# P(Play Tennis = Yes | X) ∝ 0.0098\n",
        "# P(Play Tennis = No | X) ∝ 0.01875"
      ],
      "metadata": {
        "colab": {
          "base_uri": "https://localhost:8080/"
        },
        "id": "lyHr9SoH5bOq",
        "outputId": "6bf1d2bb-9c05-48ab-8ee6-a7f5d6673ca5"
      },
      "execution_count": null,
      "outputs": [
        {
          "output_type": "stream",
          "name": "stdout",
          "text": [
            "Prior probabilities: {'No': 0.4, 'Yes': 0.6}\n",
            "Posterior probabilities: {'No': 0.018750000000000003, 'Yes': 0.002777777777777777}\n",
            "Prediction for Play Tennis: No\n",
            "\n",
            "Câu hỏi 1: Prior probabilities\n",
            "a) P(Play Tennis = Yes) = 6/10, P(Play Tennis = No) = 4/10\n",
            "\n",
            "Câu hỏi 2: Posterior probability for Play Tennis = Yes\n",
            "a) P(Play Tennis = Yes | X) ∝ 0.0028\n",
            "\n",
            "Câu hỏi 3: Posterior probability for Play Tennis = No\n",
            "c) P(Play Tennis = No | X) ∝ 0.0188\n",
            "\n",
            "Câu hỏi 4: Final prediction\n",
            "b) Play Tennis = No\n"
          ]
        }
      ]
    },
    {
      "cell_type": "markdown",
      "source": [
        "#2. MULTI-LABEL CLASSIFICATION - TRAFFIC DATA"
      ],
      "metadata": {
        "id": "lF_a4KxEBHhB"
      }
    },
    {
      "cell_type": "code",
      "source": [
        "import numpy as np\n",
        "\n",
        "# Training data\n",
        "data = np.array([\n",
        "    ['Weekday', 'Spring', 'None', 'None', 'On Time'],\n",
        "    ['Weekday', 'Winter', 'None', 'Slight', 'On Time'],\n",
        "    ['Weekday', 'Winter', 'None', 'None', 'On Time'],\n",
        "    ['Holiday', 'Winter', 'High', 'Slight', 'Late'],\n",
        "    ['Saturday', 'Summer', 'Normal', 'None', 'On Time'],\n",
        "    ['Weekday', 'Autumn', 'Normal', 'None', 'Very Late'],\n",
        "    ['Holiday', 'Summer', 'High', 'Slight', 'On Time'],\n",
        "    ['Sunday', 'Summer', 'Normal', 'None', 'On Time'],\n",
        "    ['Weekday', 'Winter', 'High', 'Heavy', 'Very Late'],\n",
        "    ['Weekday', 'Summer', 'None', 'Slight', 'On Time'],\n",
        "    ['Saturday', 'Spring', 'High', 'Heavy', 'Cancelled'],\n",
        "    ['Weekday', 'Summer', 'High', 'Slight', 'On Time'],\n",
        "    ['Weekday', 'Winter', 'Normal', 'None', 'Late'],\n",
        "    ['Weekday', 'Summer', 'High', 'None', 'On Time'],\n",
        "    ['Weekday', 'Winter', 'Normal', 'Heavy', 'Very Late'],\n",
        "    ['Saturday', 'Autumn', 'High', 'Slight', 'On Time'],\n",
        "    ['Weekday', 'Autumn', 'None', 'Heavy', 'On Time'],\n",
        "    ['Holiday', 'Spring', 'Normal', 'Slight', 'On Time'],\n",
        "    ['Weekday', 'Spring', 'Normal', 'None', 'On Time'],\n",
        "    ['Weekday', 'Spring', 'Normal', 'Heavy', 'On Time']\n",
        "])\n",
        "\n",
        "# Test case\n",
        "X = ['Weekday', 'Winter', 'High', 'Heavy']\n",
        "\n",
        "def calculate_prior(data):\n",
        "    classes, counts = np.unique(data[:, -1], return_counts=True)\n",
        "    priors = counts / data.shape[0]\n",
        "    return dict(zip(classes, priors))\n",
        "\n",
        "def calculate_likelihood(data, feature_idx, feature_val, label):\n",
        "    feature_data = data[data[:, -1] == label]\n",
        "    feature_counts = np.sum(feature_data[:, feature_idx] == feature_val)\n",
        "    return feature_counts / feature_data.shape[0]\n",
        "\n",
        "def naive_bayes_predict(data, X):\n",
        "    labels = np.unique(data[:, -1])\n",
        "    priors = calculate_prior(data)\n",
        "\n",
        "    posteriors = {}\n",
        "    for label in labels:\n",
        "        likelihood = priors[label]\n",
        "        for i in range(len(X)):\n",
        "            likelihood *= calculate_likelihood(data, i, X[i], label)\n",
        "        posteriors[label] = likelihood\n",
        "\n",
        "    return posteriors\n",
        "\n",
        "# Calculate the prior probabilities\n",
        "priors = calculate_prior(data)\n",
        "print(\"Prior probabilities:\", priors)\n",
        "\n",
        "# Calculate the posterior probabilities for the given test case\n",
        "posteriors = naive_bayes_predict(data, X)\n",
        "print(\"Posterior probabilities:\", posteriors)\n",
        "\n",
        "# Determine the final prediction\n",
        "prediction = max(posteriors, key=posteriors.get)\n",
        "print(\"Prediction for Class:\", prediction)\n",
        "\n",
        "# Answering the questions:\n",
        "\n",
        "# Question 5: Prior probabilities for all classes\n",
        "print(\"\\nCâu hỏi 5: Prior probabilities for all classes\")\n",
        "print(\"A) P(Class = On Time) = 14/20, P(Class = Late) = 2/20, P(Class = Very Late) = 3/20, P(Class = Cancelled) = 1/20\")\n",
        "\n",
        "# Question 6: Posterior probability for Class = On Time\n",
        "print(\"\\nCâu hỏi 6: Posterior probability for Class = On Time\")\n",
        "p_on_time = posteriors['On Time']\n",
        "print(f\"(C) P(Class = On Time | X) ∝ {p_on_time:.4f}\")\n",
        "\n",
        "# Question 7: Posterior probability for Class = Late\n",
        "print(\"\\nCâu hỏi 7: Posterior probability for Class = Late\")\n",
        "p_late = posteriors['Late']\n",
        "print(f\"(D) P(Class = Late | X) ∝ {p_late:.4f}\")\n",
        "\n",
        "# Question 8: Posterior probability for Class = Very Late\n",
        "print(\"\\nCâu hỏi 8: Posterior probability for Class = Very Late\")\n",
        "p_very_late = posteriors['Very Late']\n",
        "print(f\"(A) P(Class = Very Late | X) ∝ {p_very_late:.4f}\")\n",
        "\n",
        "# Question 9: Posterior probability for Class = Cancelled\n",
        "print(\"\\nCâu hỏi 9: Posterior probability for Class = Cancelled\")\n",
        "p_cancelled = posteriors['Cancelled']\n",
        "print(f\"(D) P(Class = Cancelled | X) ∝ {p_cancelled:.4f}\")\n",
        "\n",
        "# Question 10: Final prediction\n",
        "print(\"\\nCâu hỏi 10: Final prediction\")\n",
        "print(f\"(C) Class = {prediction}\")"
      ],
      "metadata": {
        "colab": {
          "base_uri": "https://localhost:8080/"
        },
        "id": "Sx-d5oDcBGbR",
        "outputId": "178b173a-359d-41f5-c23d-7665265fdd3f"
      },
      "execution_count": null,
      "outputs": [
        {
          "output_type": "stream",
          "name": "stdout",
          "text": [
            "Prior probabilities: {'Cancelled': 0.05, 'Late': 0.1, 'On Time': 0.7, 'Very Late': 0.15}\n",
            "Posterior probabilities: {'Cancelled': 0.0, 'Late': 0.0, 'On Time': 0.0026239067055393583, 'Very Late': 0.022222222222222216}\n",
            "Prediction for Class: Very Late\n",
            "\n",
            "Câu hỏi 5: Prior probabilities for all classes\n",
            "A) P(Class = On Time) = 14/20, P(Class = Late) = 2/20, P(Class = Very Late) = 3/20, P(Class = Cancelled) = 1/20\n",
            "\n",
            "Câu hỏi 6: Posterior probability for Class = On Time\n",
            "(C) P(Class = On Time | X) ∝ 0.0026\n",
            "\n",
            "Câu hỏi 7: Posterior probability for Class = Late\n",
            "(D) P(Class = Late | X) ∝ 0.0000\n",
            "\n",
            "Câu hỏi 8: Posterior probability for Class = Very Late\n",
            "(A) P(Class = Very Late | X) ∝ 0.0222\n",
            "\n",
            "Câu hỏi 9: Posterior probability for Class = Cancelled\n",
            "(D) P(Class = Cancelled | X) ∝ 0.0000\n",
            "\n",
            "Câu hỏi 10: Final prediction\n",
            "(C) Class = Very Late\n"
          ]
        }
      ]
    },
    {
      "cell_type": "markdown",
      "source": [
        "#3. IRIS CLASSIFICATION"
      ],
      "metadata": {
        "id": "X2Aa8_b3D2bN"
      }
    },
    {
      "cell_type": "code",
      "source": [
        "import numpy as np\n",
        "\n",
        "# Training data\n",
        "lengths = np.array([1.4, 1.0, 1.3, 1.9, 2.0, 1.8, 3.0, 3.8, 4.1, 3.9, 4.2, 3.4])\n",
        "classes = np.array([0, 0, 0, 0, 0, 0, 1, 1, 1, 1, 1, 1])\n",
        "\n",
        "# Calculate mean and variance\n",
        "def calculate_mean_variance(lengths, classes, target_class):\n",
        "    filtered_lengths = lengths[classes == target_class]\n",
        "    mean = np.mean(filtered_lengths)\n",
        "    variance = np.var(filtered_lengths, ddof=0)  # using population variance\n",
        "    return mean, variance\n",
        "\n",
        "# Calculate mean and variance for both classes\n",
        "mean_0, variance_0 = calculate_mean_variance(lengths, classes, 0)\n",
        "mean_1, variance_1 = calculate_mean_variance(lengths, classes, 1)\n",
        "\n",
        "print(f\"Mean and variance for Class 0: mean = {mean_0:.3f}, variance = {variance_0:.3f}\")\n",
        "print(f\"Mean and variance for Class 1: mean = {mean_1:.3f}, variance = {variance_1:.3f}\")\n",
        "\n",
        "# Gaussian Naive Bayes probability density function\n",
        "def gaussian_pdf(x, mean, variance):\n",
        "    return (1 / np.sqrt(2 * np.pi * variance)) * np.exp(-((x - mean) ** 2) / (2 * variance))\n",
        "\n",
        "# Test data\n",
        "test_length = 3.4\n",
        "\n",
        "# Calculate probabilities for the test data\n",
        "p_class_0 = gaussian_pdf(test_length, mean_0, variance_0)\n",
        "p_class_1 = gaussian_pdf(test_length, mean_1, variance_1)\n",
        "\n",
        "print(f\"P(Class = 0 | X) = {p_class_0:.4e}\")\n",
        "print(f\"P(Class = 1 | X) = {p_class_1:.4f}\")"
      ],
      "metadata": {
        "colab": {
          "base_uri": "https://localhost:8080/"
        },
        "id": "Di_8p96aD198",
        "outputId": "5a927004-2f0e-48a7-eb2d-4af5dd1cb93e"
      },
      "execution_count": 1,
      "outputs": [
        {
          "output_type": "stream",
          "name": "stdout",
          "text": [
            "Mean and variance for Class 0: mean = 1.567, variance = 0.129\n",
            "Mean and variance for Class 1: mean = 3.733, variance = 0.172\n",
            "P(Class = 0 | X) = 2.4162e-06\n",
            "P(Class = 1 | X) = 0.6963\n"
          ]
        }
      ]
    },
    {
      "cell_type": "markdown",
      "source": [
        "#4. PLAY TENNIS CLASSIFIER IMPLEMENTATION"
      ],
      "metadata": {
        "id": "Ayc506Oaq87i"
      }
    },
    {
      "cell_type": "code",
      "source": [
        "# Step 4.1: Create Training Dataset\n",
        "import numpy as np\n",
        "\n",
        "def create_train_data():\n",
        "    data = [\n",
        "        ['Sunny', 'Hot', 'High', 'Weak', 'No'],\n",
        "        ['Sunny', 'Hot', 'High', 'Strong', 'No'],\n",
        "        ['Overcast', 'Hot', 'High', 'Weak', 'Yes'],\n",
        "        ['Rain', 'Mild', 'High', 'Weak', 'Yes'],\n",
        "        ['Rain', 'Cool', 'Normal', 'Weak', 'Yes'],\n",
        "        ['Rain', 'Cool', 'Normal', 'Strong', 'No'],\n",
        "        ['Overcast', 'Cool', 'Normal', 'Strong', 'Yes'],\n",
        "        ['Overcast', 'Mild', 'High', 'Weak', 'No'],\n",
        "        ['Sunny', 'Cool', 'Normal', 'Weak', 'Yes'],\n",
        "        ['Rain', 'Mild', 'Normal', 'Weak', 'Yes']\n",
        "    ]\n",
        "    return np.array(data)\n",
        "\n",
        "train_data = create_train_data()\n",
        "print(train_data)"
      ],
      "metadata": {
        "colab": {
          "base_uri": "https://localhost:8080/"
        },
        "id": "wvB7UKrdq-A7",
        "outputId": "bb24748f-fd49-4428-cf21-f7dc7c24acab"
      },
      "execution_count": 3,
      "outputs": [
        {
          "output_type": "stream",
          "name": "stdout",
          "text": [
            "[['Sunny' 'Hot' 'High' 'Weak' 'No']\n",
            " ['Sunny' 'Hot' 'High' 'Strong' 'No']\n",
            " ['Overcast' 'Hot' 'High' 'Weak' 'Yes']\n",
            " ['Rain' 'Mild' 'High' 'Weak' 'Yes']\n",
            " ['Rain' 'Cool' 'Normal' 'Weak' 'Yes']\n",
            " ['Rain' 'Cool' 'Normal' 'Strong' 'No']\n",
            " ['Overcast' 'Cool' 'Normal' 'Strong' 'Yes']\n",
            " ['Overcast' 'Mild' 'High' 'Weak' 'No']\n",
            " ['Sunny' 'Cool' 'Normal' 'Weak' 'Yes']\n",
            " ['Rain' 'Mild' 'Normal' 'Weak' 'Yes']]\n"
          ]
        }
      ]
    },
    {
      "cell_type": "code",
      "source": [
        "# Step 4.2: Compute Prior Probabilities\n",
        "def compute_prior_probability(train_data):\n",
        "    y_unique = ['no', 'yes']\n",
        "    prior_probability = np.zeros(len(y_unique))\n",
        "\n",
        "    # Count the occurrences of each class label\n",
        "    counts = np.unique(train_data[:, -1], return_counts=True)[1]\n",
        "\n",
        "    # Calculate the prior probabilities\n",
        "    for i, count in enumerate(counts):\n",
        "        prior_probability[i] = count / train_data.shape[0]\n",
        "\n",
        "    return prior_probability\n",
        "\n",
        "prior_probability = compute_prior_probability(train_data)\n",
        "print(\"P(play tennis = No):\", prior_probability[0])\n",
        "print(\"P(play tennis = Yes):\", prior_probability[1])"
      ],
      "metadata": {
        "colab": {
          "base_uri": "https://localhost:8080/"
        },
        "id": "VBYVExsCrjbi",
        "outputId": "a3a9c352-4303-4601-a84f-55cba5e2e760"
      },
      "execution_count": 5,
      "outputs": [
        {
          "output_type": "stream",
          "name": "stdout",
          "text": [
            "P(play tennis = No): 0.4\n",
            "P(play tennis = Yes): 0.6\n"
          ]
        }
      ]
    },
    {
      "cell_type": "code",
      "source": [
        "# Step 4.3: Compute Conditional Probabilities\n",
        "def compute_conditional_probability(train_data):\n",
        "    y_unique = ['no', 'yes']\n",
        "    conditional_probability = []\n",
        "    list_x_name = []\n",
        "\n",
        "    for i in range(train_data.shape[1] - 1):\n",
        "        x_unique = np.unique(train_data[:, i])\n",
        "        list_x_name.append(x_unique)\n",
        "\n",
        "        x_conditional_probability = {}\n",
        "        for y in y_unique:\n",
        "            y_data = train_data[train_data[:, -1] == y]\n",
        "            probabilities = {}\n",
        "            for x in x_unique:\n",
        "                probabilities[x] = np.sum(y_data[:, i] == x) / y_data.shape[0]\n",
        "            x_conditional_probability[y] = probabilities\n",
        "\n",
        "        conditional_probability.append(x_conditional_probability)\n",
        "\n",
        "    return conditional_probability, list_x_name\n",
        "\n",
        "# Testing the function\n",
        "train_data = create_train_data()\n",
        "conditional_probability, list_x_name = compute_conditional_probability(train_data)\n",
        "\n",
        "print(\"Conditional probabilities:\", conditional_probability)\n",
        "print(\"x1 =\", list_x_name[0])\n",
        "print(\"x2 =\", list_x_name[1])\n",
        "print(\"x3 =\", list_x_name[2])\n",
        "print(\"x4 =\", list_x_name[3])"
      ],
      "metadata": {
        "colab": {
          "base_uri": "https://localhost:8080/"
        },
        "id": "PfKJH2CXsnFE",
        "outputId": "3e146b07-9f52-4c5e-986b-dc141bb16186"
      },
      "execution_count": 7,
      "outputs": [
        {
          "output_type": "stream",
          "name": "stdout",
          "text": [
            "Conditional probabilities: [{'no': {'Overcast': nan, 'Rain': nan, 'Sunny': nan}, 'yes': {'Overcast': nan, 'Rain': nan, 'Sunny': nan}}, {'no': {'Cool': nan, 'Hot': nan, 'Mild': nan}, 'yes': {'Cool': nan, 'Hot': nan, 'Mild': nan}}, {'no': {'High': nan, 'Normal': nan}, 'yes': {'High': nan, 'Normal': nan}}, {'no': {'Strong': nan, 'Weak': nan}, 'yes': {'Strong': nan, 'Weak': nan}}]\n",
            "x1 = ['Overcast' 'Rain' 'Sunny']\n",
            "x2 = ['Cool' 'Hot' 'Mild']\n",
            "x3 = ['High' 'Normal']\n",
            "x4 = ['Strong' 'Weak']\n"
          ]
        },
        {
          "output_type": "stream",
          "name": "stderr",
          "text": [
            "<ipython-input-7-1dbaa6104df6>:16: RuntimeWarning: invalid value encountered in scalar divide\n",
            "  probabilities[x] = np.sum(y_data[:, i] == x) / y_data.shape[0]\n"
          ]
        }
      ]
    },
    {
      "cell_type": "code",
      "source": [
        "import numpy as np\n",
        "\n",
        "# Function to create training data\n",
        "def create_train_data():\n",
        "    data = [\n",
        "        ['Sunny', 'Hot', 'High', 'Weak', 'No'],\n",
        "        ['Sunny', 'Hot', 'High', 'Strong', 'No'],\n",
        "        ['Overcast', 'Hot', 'High', 'Weak', 'Yes'],\n",
        "        ['Rain', 'Mild', 'High', 'Weak', 'Yes'],\n",
        "        ['Rain', 'Cool', 'Normal', 'Weak', 'Yes'],\n",
        "        ['Rain', 'Cool', 'Normal', 'Strong', 'No'],\n",
        "        ['Overcast', 'Cool', 'Normal', 'Strong', 'Yes'],\n",
        "        ['Overcast', 'Mild', 'High', 'Weak', 'No'],\n",
        "        ['Sunny', 'Cool', 'Normal', 'Weak', 'Yes'],\n",
        "        ['Rain', 'Mild', 'Normal', 'Weak', 'Yes']\n",
        "    ]\n",
        "    return np.array(data)\n",
        "\n",
        "# Function to compute conditional probabilities\n",
        "def compute_conditional_probability(train_data):\n",
        "    y_unique = ['no', 'yes']\n",
        "    conditional_probability = []\n",
        "    list_x_name = []\n",
        "\n",
        "    for i in range(train_data.shape[1] - 1):\n",
        "        x_unique = np.unique(train_data[:, i])\n",
        "        list_x_name.append(x_unique)\n",
        "\n",
        "        x_conditional_probability = {}\n",
        "        for y in y_unique:\n",
        "            y_data = train_data[train_data[:, -1] == y]\n",
        "            probabilities = {}\n",
        "            for x in x_unique:\n",
        "                probabilities[x] = np.sum(y_data[:, i] == x) / y_data.shape[0]\n",
        "            x_conditional_probability[y] = probabilities\n",
        "\n",
        "        conditional_probability.append(x_conditional_probability)\n",
        "\n",
        "    return conditional_probability, list_x_name\n",
        "\n",
        "# Function to get the index of the feature name\n",
        "def get_index_from_value(feature_name, list_features):\n",
        "    return np.where(list_features == feature_name)[0][0]\n",
        "\n",
        "# Using the functions\n",
        "train_data = create_train_data()\n",
        "conditional_probability, list_x_name = compute_conditional_probability(train_data)\n",
        "\n",
        "# Compute P(\"Outlook\" = \"Sunny\" | Play Tennis = \"Yes\")\n",
        "outlook = list_x_name[0]\n",
        "x1 = get_index_from_value(\"Sunny\", outlook)\n",
        "\n",
        "# Corrected way to access the conditional probability\n",
        "p_sunny_yes = conditional_probability[0]['yes']['Sunny']\n",
        "print(\"P('Outlook'='Sunny'|Play Tennis='Yes') =\", np.round(p_sunny_yes, 2))"
      ],
      "metadata": {
        "colab": {
          "base_uri": "https://localhost:8080/"
        },
        "id": "meNICp6LuKlY",
        "outputId": "a0015b17-5c0b-4551-8f31-acf59b40d688"
      },
      "execution_count": 13,
      "outputs": [
        {
          "output_type": "stream",
          "name": "stdout",
          "text": [
            "P('Outlook'='Sunny'|Play Tennis='Yes') = nan\n"
          ]
        },
        {
          "output_type": "stream",
          "name": "stderr",
          "text": [
            "<ipython-input-13-e5adc7948f80>:34: RuntimeWarning: invalid value encountered in scalar divide\n",
            "  probabilities[x] = np.sum(y_data[:, i] == x) / y_data.shape[0]\n"
          ]
        }
      ]
    },
    {
      "cell_type": "code",
      "source": [
        "import numpy as np\n",
        "\n",
        "# Function to create training data\n",
        "def create_train_data():\n",
        "    data = [\n",
        "        ['Sunny', 'Hot', 'High', 'Weak', 'No'],\n",
        "        ['Sunny', 'Hot', 'High', 'Strong', 'No'],\n",
        "        ['Overcast', 'Hot', 'High', 'Weak', 'Yes'],\n",
        "        ['Rain', 'Mild', 'High', 'Weak', 'Yes'],\n",
        "        ['Rain', 'Cool', 'Normal', 'Weak', 'Yes'],\n",
        "        ['Rain', 'Cool', 'Normal', 'Strong', 'No'],\n",
        "        ['Overcast', 'Cool', 'Normal', 'Strong', 'Yes'],\n",
        "        ['Overcast', 'Mild', 'High', 'Weak', 'No'],\n",
        "        ['Sunny', 'Cool', 'Normal', 'Weak', 'Yes'],\n",
        "        ['Rain', 'Mild', 'Normal', 'Weak', 'Yes']\n",
        "    ]\n",
        "    return np.array(data)\n",
        "\n",
        "# Function to compute conditional probabilities\n",
        "def compute_conditional_probability(train_data):\n",
        "    y_unique = ['No', 'Yes']\n",
        "    conditional_probability = []\n",
        "    list_x_name = []\n",
        "\n",
        "    for i in range(train_data.shape[1] - 1):\n",
        "        x_unique = np.unique(train_data[:, i])\n",
        "        list_x_name.append(x_unique)\n",
        "\n",
        "        x_conditional_probability = {}\n",
        "        for y in y_unique:\n",
        "            y_data = train_data[train_data[:, -1] == y]\n",
        "            probabilities = {}\n",
        "            for x in x_unique:\n",
        "                probabilities[x] = np.sum(y_data[:, i] == x) / y_data.shape[0]\n",
        "            x_conditional_probability[y] = probabilities\n",
        "\n",
        "        conditional_probability.append(x_conditional_probability)\n",
        "\n",
        "    return conditional_probability, list_x_name\n",
        "\n",
        "# Function to get the index of the feature name\n",
        "def get_index_from_value(feature_name, list_features):\n",
        "    return np.where(list_features == feature_name)[0][0]\n",
        "\n",
        "# Using the functions\n",
        "train_data = create_train_data()\n",
        "conditional_probability, list_x_name = compute_conditional_probability(train_data)\n",
        "\n",
        "# Compute P(\"Outlook\" = \"Sunny\" | Play Tennis = \"No\")\n",
        "outlook = list_x_name[0]\n",
        "x1 = get_index_from_value(\"Sunny\", outlook)\n",
        "\n",
        "# Corrected way to access the conditional probability\n",
        "p_sunny_no = conditional_probability[0]['No']['Sunny']\n",
        "print(\"P('Outlook'='Sunny'|Play Tennis='No') =\", np.round(p_sunny_no, 2))"
      ],
      "metadata": {
        "colab": {
          "base_uri": "https://localhost:8080/"
        },
        "id": "B6hFrGVsu_4i",
        "outputId": "a30826ec-47d1-423c-b986-db28a311cbe5"
      },
      "execution_count": 14,
      "outputs": [
        {
          "output_type": "stream",
          "name": "stdout",
          "text": [
            "P('Outlook'='Sunny'|Play Tennis='No') = 0.5\n"
          ]
        }
      ]
    },
    {
      "cell_type": "code",
      "source": [
        "import numpy as np\n",
        "\n",
        "# Step 4.1: Create Training Dataset\n",
        "def create_train_data():\n",
        "    data = [\n",
        "        ['Sunny', 'Hot', 'High', 'Weak', 'No'],\n",
        "        ['Sunny', 'Hot', 'High', 'Strong', 'No'],\n",
        "        ['Overcast', 'Hot', 'High', 'Weak', 'Yes'],\n",
        "        ['Rain', 'Mild', 'High', 'Weak', 'Yes'],\n",
        "        ['Rain', 'Cool', 'Normal', 'Weak', 'Yes'],\n",
        "        ['Rain', 'Cool', 'Normal', 'Strong', 'No'],\n",
        "        ['Overcast', 'Cool', 'Normal', 'Strong', 'Yes'],\n",
        "        ['Overcast', 'Mild', 'High', 'Weak', 'No'],\n",
        "        ['Sunny', 'Cool', 'Normal', 'Weak', 'Yes'],\n",
        "        ['Rain', 'Mild', 'Normal', 'Weak', 'Yes']\n",
        "    ]\n",
        "    return np.array(data)\n",
        "\n",
        "# Step 4.2: Compute Prior Probabilities\n",
        "def compute_prior_probability(train_data):\n",
        "    y_unique, counts = np.unique(train_data[:, -1], return_counts=True)\n",
        "    prior_probability = counts / train_data.shape[0]\n",
        "    return prior_probability\n",
        "\n",
        "# Step 4.3: Compute Conditional Probabilities\n",
        "def compute_conditional_probability(train_data):\n",
        "    y_unique = ['No', 'Yes']\n",
        "    conditional_probability = []\n",
        "    list_x_name = []\n",
        "\n",
        "    for i in range(train_data.shape[1] - 1):\n",
        "        x_unique = np.unique(train_data[:, i])\n",
        "        list_x_name.append(x_unique)\n",
        "\n",
        "        x_conditional_probability = {}\n",
        "        for y in y_unique:\n",
        "            y_data = train_data[train_data[:, -1] == y]\n",
        "            probabilities = {}\n",
        "            for x in x_unique:\n",
        "                probabilities[x] = np.sum(y_data[:, i] == x) / y_data.shape[0]\n",
        "            x_conditional_probability[y] = probabilities\n",
        "\n",
        "        conditional_probability.append(x_conditional_probability)\n",
        "\n",
        "    return conditional_probability, list_x_name\n",
        "\n",
        "# Function to get the index of the feature name\n",
        "def get_index_from_value(feature_name, list_features):\n",
        "    return np.where(list_features == feature_name)[0][0]\n",
        "\n",
        "# Step 4.5: Complete `train_naive_bayes` Function\n",
        "def train_naive_bayes(train_data):\n",
        "    # Step 1: Calculate Prior Probability\n",
        "    y_unique = ['No', 'Yes']\n",
        "    prior_probability = compute_prior_probability(train_data)\n",
        "\n",
        "    # Step 2: Calculate Conditional Probability\n",
        "    conditional_probability, list_x_name = compute_conditional_probability(train_data)\n",
        "\n",
        "    return prior_probability, conditional_probability, list_x_name\n",
        "\n",
        "# ###################\n",
        "# Prediction\n",
        "# ###################\n",
        "def prediction_play_tennis(X, list_x_name, prior_probability, conditional_probability):\n",
        "    # Get indices for the feature values in X\n",
        "    x1 = get_index_from_value(X[0], list_x_name[0])\n",
        "    x2 = get_index_from_value(X[1], list_x_name[1])\n",
        "    x3 = get_index_from_value(X[2], list_x_name[2])\n",
        "    x4 = get_index_from_value(X[3], list_x_name[3])\n",
        "\n",
        "    # Initialize probabilities for both classes\n",
        "    p_no = prior_probability[0]\n",
        "    p_yes = prior_probability[1]\n",
        "\n",
        "    # Compute the probabilities using conditional probabilities\n",
        "    p_no *= conditional_probability[0]['No'][list_x_name[0][x1]]\n",
        "    p_no *= conditional_probability[1]['No'][list_x_name[1][x2]]\n",
        "    p_no *= conditional_probability[2]['No'][list_x_name[2][x3]]\n",
        "    p_no *= conditional_probability[3]['No'][list_x_name[3][x4]]\n",
        "\n",
        "    p_yes *= conditional_probability[0]['Yes'][list_x_name[0][x1]]\n",
        "    p_yes *= conditional_probability[1]['Yes'][list_x_name[1][x2]]\n",
        "    p_yes *= conditional_probability[2]['Yes'][list_x_name[2][x3]]\n",
        "    p_yes *= conditional_probability[3]['Yes'][list_x_name[3][x4]]\n",
        "\n",
        "    # Determine the prediction based on the higher probability\n",
        "    if p_no > p_yes:\n",
        "        y_pred = 0  # \"No\"\n",
        "    else:\n",
        "        y_pred = 1  # \"Yes\"\n",
        "\n",
        "    return y_pred\n",
        "\n",
        "# Test the prediction function\n",
        "X = ['Sunny', 'Cool', 'High', 'Strong']\n",
        "data = create_train_data()\n",
        "prior_probability, conditional_probability, list_x_name = train_naive_bayes(data)\n",
        "pred = prediction_play_tennis(X, list_x_name, prior_probability, conditional_probability)\n",
        "\n",
        "if pred:\n",
        "    print(\"Ad should go!\")\n",
        "else:\n",
        "    print(\"Ad should not go!\")"
      ],
      "metadata": {
        "colab": {
          "base_uri": "https://localhost:8080/"
        },
        "id": "D2sIIgZ2vbfL",
        "outputId": "a5e1dd99-a215-4ce2-c41e-5459e1799dad"
      },
      "execution_count": 15,
      "outputs": [
        {
          "output_type": "stream",
          "name": "stdout",
          "text": [
            "Ad should not go!\n"
          ]
        }
      ]
    }
  ]
}