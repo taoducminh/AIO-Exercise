{
  "nbformat": 4,
  "nbformat_minor": 0,
  "metadata": {
    "colab": {
      "provenance": [],
      "gpuType": "T4",
      "authorship_tag": "ABX9TyOK+o0pdRxQS9yUj9JpL/06",
      "include_colab_link": true
    },
    "kernelspec": {
      "name": "python3",
      "display_name": "Python 3"
    },
    "language_info": {
      "name": "python"
    },
    "accelerator": "GPU"
  },
  "cells": [
    {
      "cell_type": "markdown",
      "metadata": {
        "id": "view-in-github",
        "colab_type": "text"
      },
      "source": [
        "<a href=\"https://colab.research.google.com/github/taoducminh/AIO-Exercise/blob/feature%2Fexercise-module2-week1/Numpy_Exercise.ipynb\" target=\"_parent\"><img src=\"https://colab.research.google.com/assets/colab-badge.svg\" alt=\"Open In Colab\"/></a>"
      ]
    },
    {
      "cell_type": "markdown",
      "source": [
        "# Bài tập 1: Numpy Cơ Bản"
      ],
      "metadata": {
        "id": "7GaSIFtvirTm"
      }
    },
    {
      "cell_type": "code",
      "execution_count": 2,
      "metadata": {
        "id": "3i21HyNzgZ5B"
      },
      "outputs": [],
      "source": [
        "# Câu hỏi 1: Câu nào sau đây là đúng để tạo mảng 1 chiều từ 0 đến 9\n",
        "import numpy as np\n",
        "arr = np.arange(0, 10, 1)"
      ]
    },
    {
      "cell_type": "code",
      "source": [
        "# Câu hỏi 2: Cách tạo một mảng boolean 3x3 với tất cả giá trị là True\n",
        "arr = np.ones((3, 3)) > 0\n",
        "print(arr)\n",
        "arr = np.ones((3, 3), dtype=bool)\n",
        "print(arr)\n",
        "arr = np.full((3, 3), fill_value=True, dtype=bool)\n",
        "print(arr)"
      ],
      "metadata": {
        "id": "QbtJjVxki7oi",
        "outputId": "42f106ec-ef46-4e5d-d8e9-8da354563668",
        "colab": {
          "base_uri": "https://localhost:8080/"
        }
      },
      "execution_count": 6,
      "outputs": [
        {
          "output_type": "stream",
          "name": "stdout",
          "text": [
            "[[ True  True  True]\n",
            " [ True  True  True]\n",
            " [ True  True  True]]\n",
            "[[ True  True  True]\n",
            " [ True  True  True]\n",
            " [ True  True  True]]\n",
            "[[ True  True  True]\n",
            " [ True  True  True]\n",
            " [ True  True  True]]\n"
          ]
        }
      ]
    },
    {
      "cell_type": "code",
      "source": [
        "# Câu hỏi 3: Kết quả của đoạn code sau đây:\n",
        "import numpy as np\n",
        "arr = np.arange(0, 10)\n",
        "print(arr[arr % 2 == 1])"
      ],
      "metadata": {
        "id": "Bxans24BjNUI",
        "outputId": "7ab40c72-f5a0-4b48-9f63-ed5441a18ee0",
        "colab": {
          "base_uri": "https://localhost:8080/"
        }
      },
      "execution_count": 5,
      "outputs": [
        {
          "output_type": "stream",
          "name": "stdout",
          "text": [
            "[1 3 5 7 9]\n"
          ]
        }
      ]
    },
    {
      "cell_type": "code",
      "source": [
        "# Câu hỏi 4: Kết quả của đoạn code sau đây:\n",
        "import numpy as np\n",
        "arr = np.arange(0, 10)\n",
        "arr[arr % 2 == 1] = -1\n",
        "print(arr)"
      ],
      "metadata": {
        "id": "IjK0OpW0j-Op",
        "outputId": "36455320-b3d3-4e5e-c909-5a7cf8ff55b8",
        "colab": {
          "base_uri": "https://localhost:8080/"
        }
      },
      "execution_count": 7,
      "outputs": [
        {
          "output_type": "stream",
          "name": "stdout",
          "text": [
            "[ 0 -1  2 -1  4 -1  6 -1  8 -1]\n"
          ]
        }
      ]
    },
    {
      "cell_type": "code",
      "source": [
        "# Câu hỏi 5: Kết quả của đoạn code sau đây:\n",
        "import numpy as np\n",
        "arr = np.arange(10)\n",
        "arr_2d = arr.reshape(2, -1)\n",
        "print(arr_2d)"
      ],
      "metadata": {
        "id": "VRANjVGmkEXg",
        "outputId": "d4267607-44ed-4e20-bbc4-5007970356cf",
        "colab": {
          "base_uri": "https://localhost:8080/"
        }
      },
      "execution_count": 8,
      "outputs": [
        {
          "output_type": "stream",
          "name": "stdout",
          "text": [
            "[[0 1 2 3 4]\n",
            " [5 6 7 8 9]]\n"
          ]
        }
      ]
    },
    {
      "cell_type": "code",
      "source": [
        "# Câu hỏi 6: Kết quả của đoạn code sau đây:\n",
        "import numpy as np\n",
        "arr1 = np.arange(10).reshape(2, -1)\n",
        "arr2 = np.repeat(1, 10).reshape(2, -1)\n",
        "c = np.concatenate([arr1, arr2], axis=0)\n",
        "print(\"Result:\\n\", c)"
      ],
      "metadata": {
        "id": "K-QamC7EkNwo",
        "outputId": "340d233a-8d8a-44ae-852b-ea6b9bc76938",
        "colab": {
          "base_uri": "https://localhost:8080/"
        }
      },
      "execution_count": 9,
      "outputs": [
        {
          "output_type": "stream",
          "name": "stdout",
          "text": [
            "Result:\n",
            " [[0 1 2 3 4]\n",
            " [5 6 7 8 9]\n",
            " [1 1 1 1 1]\n",
            " [1 1 1 1 1]]\n"
          ]
        }
      ]
    },
    {
      "cell_type": "code",
      "source": [
        "# Câu hỏi 7: Kết quả của đoạn code sau đây:\n",
        "import numpy as np\n",
        "arr1 = np.arange(10).reshape(2, -1)\n",
        "arr2 = np.repeat(1, 10).reshape(2, -1)\n",
        "c = np.concatenate([arr1, arr2], axis=1)\n",
        "print(\"C = \", c)"
      ],
      "metadata": {
        "id": "T2ZacAd2kcjf",
        "outputId": "d10adfab-de30-4d11-b873-a4ab59575782",
        "colab": {
          "base_uri": "https://localhost:8080/"
        }
      },
      "execution_count": 1,
      "outputs": [
        {
          "output_type": "stream",
          "name": "stdout",
          "text": [
            "C =  [[0 1 2 3 4 1 1 1 1 1]\n",
            " [5 6 7 8 9 1 1 1 1 1]]\n"
          ]
        }
      ]
    },
    {
      "cell_type": "code",
      "source": [
        "# Câu hỏi 8: Kết quả của đoạn code sau đây:\n",
        "import numpy as np\n",
        "arr = np.array([1, 2, 3])\n",
        "print(np.repeat(arr, 3))\n",
        "print(np.tile(arr, 3))"
      ],
      "metadata": {
        "id": "hZen3ZVzlWK6",
        "outputId": "0b76da79-e8ed-4d0e-89cf-e0de6fe504f4",
        "colab": {
          "base_uri": "https://localhost:8080/"
        }
      },
      "execution_count": 2,
      "outputs": [
        {
          "output_type": "stream",
          "name": "stdout",
          "text": [
            "[1 1 1 2 2 2 3 3 3]\n",
            "[1 2 3 1 2 3 1 2 3]\n"
          ]
        }
      ]
    },
    {
      "cell_type": "code",
      "source": [
        "# Câu hỏi 9: Kết quả của đoạn code sau đây:\n",
        "import numpy as np\n",
        "a = np.array([2, 6, 1, 9, 10, 3, 27])\n",
        "index = np.where((a >= 5) & (a <= 10))\n",
        "print(\"result\", a[index])\n"
      ],
      "metadata": {
        "id": "4JKXSpRKlUjt",
        "outputId": "4fdc903f-d59e-4d1d-ec1a-b04dcbf7536d",
        "colab": {
          "base_uri": "https://localhost:8080/"
        }
      },
      "execution_count": 3,
      "outputs": [
        {
          "output_type": "stream",
          "name": "stdout",
          "text": [
            "result [ 6  9 10]\n"
          ]
        }
      ]
    },
    {
      "cell_type": "code",
      "source": [
        "# Câu hỏi 10: Kết quả của đoạn code sau đây:\n",
        "import numpy as np\n",
        "\n",
        "def maxx(x, y):\n",
        "    if x >= y:\n",
        "        return x\n",
        "    else:\n",
        "        return y\n",
        "\n",
        "a = np.array([5, 7, 9, 8, 6, 4, 5])\n",
        "b = np.array([6, 3, 4, 8, 9, 7, 1])\n",
        "\n",
        "pair_max = np.vectorize(maxx, otypes=[float])\n",
        "print(pair_max(a, b))"
      ],
      "metadata": {
        "id": "GklCpRr7lVNn",
        "outputId": "c444d60b-82ce-4f6e-91c4-9c7b3c380e89",
        "colab": {
          "base_uri": "https://localhost:8080/"
        }
      },
      "execution_count": 4,
      "outputs": [
        {
          "output_type": "stream",
          "name": "stdout",
          "text": [
            "[6. 7. 9. 8. 9. 7. 5.]\n"
          ]
        }
      ]
    },
    {
      "cell_type": "code",
      "source": [
        "# Câu hỏi 11: Kết quả của đoạn code sau đây:\n",
        "import numpy as np\n",
        "\n",
        "a = np.array([5, 7, 9, 8, 6, 4, 5])\n",
        "b = np.array([6, 3, 4, 8, 9, 7, 1])\n",
        "\n",
        "print(\"Result\", np.where(a < b, b, a))\n"
      ],
      "metadata": {
        "id": "nWjfDa5qlWmb",
        "outputId": "f646bab3-ff14-49de-eb49-701cac94674e",
        "colab": {
          "base_uri": "https://localhost:8080/"
        }
      },
      "execution_count": 5,
      "outputs": [
        {
          "output_type": "stream",
          "name": "stdout",
          "text": [
            "Result [6 7 9 8 9 7 5]\n"
          ]
        }
      ]
    },
    {
      "cell_type": "markdown",
      "source": [
        "# Bài tập 2: Xử lý ảnh"
      ],
      "metadata": {
        "id": "n2rNziROmpTu"
      }
    },
    {
      "cell_type": "code",
      "source": [
        "# Câu hỏi 12: Hoàn thành đoạn code sau đây để chuyển ảnh màu sang ảnh xám dựa vào phương pháp Lightness:\n",
        "\n",
        "# Download image\n",
        "!gdown 1i9dqan21DjQoG5Q_VEvm0LrVwAlXD0vB\n",
        "\n",
        "import matplotlib.image as mpimg\n",
        "img = mpimg.imread('/content/dog.jpeg')\n",
        "\n",
        "# Your Code Here\n",
        "gray_img_01 = (np.max(img, axis=2) + np.min(img, axis=2)) / 2\n",
        "\n",
        "gray_img_01[0, 0]"
      ],
      "metadata": {
        "id": "u4eL7p93ms1N",
        "outputId": "8d2f5eeb-5a8e-4660-d2cb-65a7cfbde595",
        "colab": {
          "base_uri": "https://localhost:8080/"
        }
      },
      "execution_count": 8,
      "outputs": [
        {
          "output_type": "stream",
          "name": "stdout",
          "text": [
            "Downloading...\n",
            "From: https://drive.google.com/uc?id=1i9dqan21DjQoG5Q_VEvm0LrVwAlXD0vB\n",
            "To: /content/dog.jpeg\n",
            "\r  0% 0.00/33.7k [00:00<?, ?B/s]\r100% 33.7k/33.7k [00:00<00:00, 57.0MB/s]\n"
          ]
        },
        {
          "output_type": "execute_result",
          "data": {
            "text/plain": [
              "102.5"
            ]
          },
          "metadata": {},
          "execution_count": 8
        }
      ]
    },
    {
      "cell_type": "code",
      "source": [
        "# Câu hỏi 13: Hoàn thành đoạn code sau đây để chuyển ảnh màu sang ảnh xám dựa vào phương pháp Average:\n",
        "# Your Code Here\n",
        "gray_img_02 = np.mean(img, axis=2)\n",
        "\n",
        "gray_img_02[0, 0]"
      ],
      "metadata": {
        "id": "ndZ845OFnahV",
        "outputId": "8bfcbace-2ca0-47ce-c4fe-d1b2d88dc413",
        "colab": {
          "base_uri": "https://localhost:8080/"
        }
      },
      "execution_count": 9,
      "outputs": [
        {
          "output_type": "execute_result",
          "data": {
            "text/plain": [
              "107.66666666666667"
            ]
          },
          "metadata": {},
          "execution_count": 9
        }
      ]
    },
    {
      "cell_type": "code",
      "source": [
        "# Câu hỏi 14: Hoàn thành đoạn code sau đây để chuyển ảnh màu sang ảnh xám dựa vào phương pháp Luminosity:\n",
        "# Your Code Here\n",
        "gray_img_03 = 0.21 * img[:,:,0] + 0.72 * img[:,:,1] + 0.07 * img[:,:,2]\n",
        "\n",
        "gray_img_03[0, 0]"
      ],
      "metadata": {
        "id": "NguiKp4JoKGA",
        "outputId": "bfe44dd2-195c-4457-c9b3-a6d4ddaaef51",
        "colab": {
          "base_uri": "https://localhost:8080/"
        }
      },
      "execution_count": 10,
      "outputs": [
        {
          "output_type": "execute_result",
          "data": {
            "text/plain": [
              "126.22999999999999"
            ]
          },
          "metadata": {},
          "execution_count": 10
        }
      ]
    },
    {
      "cell_type": "markdown",
      "source": [
        "# Bài tập 3: Phân tích dữ liệu dạng bảng"
      ],
      "metadata": {
        "id": "u6AOEh3jnHcA"
      }
    },
    {
      "cell_type": "code",
      "source": [
        "# Download data\n",
        "! gdown 1iA0WmVfW88HyJvTBSQDI5vesf-pgKabq\n",
        "import pandas as pd\n",
        "df = pd.read_csv('/content/advertising.csv')\n",
        "data = df.to_numpy()"
      ],
      "metadata": {
        "id": "Ql155K0kpfps",
        "outputId": "17112cd4-d6e0-473b-f5d6-0139e3b92d8c",
        "colab": {
          "base_uri": "https://localhost:8080/"
        }
      },
      "execution_count": 14,
      "outputs": [
        {
          "output_type": "stream",
          "name": "stdout",
          "text": [
            "Downloading...\n",
            "From: https://drive.google.com/uc?id=1iA0WmVfW88HyJvTBSQDI5vesf-pgKabq\n",
            "To: /content/advertising.csv\n",
            "\r  0% 0.00/4.06k [00:00<?, ?B/s]\r100% 4.06k/4.06k [00:00<00:00, 19.4MB/s]\n"
          ]
        }
      ]
    },
    {
      "cell_type": "code",
      "source": [
        "# Câu hỏi 15: Lấy giá trị lớn nhất và chỉ mục tương ứng của nó trên cột Sales:\n",
        "max_sales = df['Sales'].max()\n",
        "max_sales_index = df['Sales'].idxmax()\n",
        "\n",
        "print(f\"Max: {max_sales} - Index: {max_sales_index}\")"
      ],
      "metadata": {
        "id": "a9IQB8eupzfS",
        "outputId": "aa4ebf21-1199-4542-b132-5f84558d8367",
        "colab": {
          "base_uri": "https://localhost:8080/"
        }
      },
      "execution_count": 15,
      "outputs": [
        {
          "output_type": "stream",
          "name": "stdout",
          "text": [
            "Max: 27.0 - Index: 175\n"
          ]
        }
      ]
    },
    {
      "cell_type": "code",
      "source": [
        "# Câu hỏi 16: Giá trị trung bình của cột TV là:\n",
        "mean_tv = df['TV'].mean()\n",
        "\n",
        "print(f\"Mean of TV column: {mean_tv}\")"
      ],
      "metadata": {
        "id": "I5ZPUT4xqIVV",
        "outputId": "afc6862b-672f-44f0-f88f-932d40ea47b2",
        "colab": {
          "base_uri": "https://localhost:8080/"
        }
      },
      "execution_count": 16,
      "outputs": [
        {
          "output_type": "stream",
          "name": "stdout",
          "text": [
            "Mean of TV column: 147.0425\n"
          ]
        }
      ]
    },
    {
      "cell_type": "code",
      "source": [
        "# Câu hỏi 17: Số lượng bản ghi có giá trị tại cột Sales lớn hơn hoặc bằng 20 là:\n",
        "count_sales_ge_20 = df[df['Sales'] >= 20].shape[0]\n",
        "\n",
        "print(f\"Number of records with Sales >= 20: {count_sales_ge_20}\")"
      ],
      "metadata": {
        "id": "SvxSq3YlqIWE",
        "outputId": "6ebe775c-9bb1-49a6-9387-755b51cc4368",
        "colab": {
          "base_uri": "https://localhost:8080/"
        }
      },
      "execution_count": 17,
      "outputs": [
        {
          "output_type": "stream",
          "name": "stdout",
          "text": [
            "Number of records with Sales >= 20: 40\n"
          ]
        }
      ]
    },
    {
      "cell_type": "code",
      "source": [
        "# Câu hỏi 18: Tính giá trị trung bình của cột Radio thoả mãn điều kiện giá trị tương ứng trên cột Sales lớn hơn hoặc bằng 15:\n",
        "mean_radio = df[df['Sales'] >= 15]['Radio'].mean()\n",
        "\n",
        "print(f\"Mean of Radio column where Sales >= 15: {mean_radio}\")"
      ],
      "metadata": {
        "id": "auEtlrXNq_Wd",
        "outputId": "67e4d764-6fc8-4fc4-b60c-dac9ee8e2d97",
        "colab": {
          "base_uri": "https://localhost:8080/"
        }
      },
      "execution_count": 18,
      "outputs": [
        {
          "output_type": "stream",
          "name": "stdout",
          "text": [
            "Mean of Radio column where Sales >= 15: 26.22293577981651\n"
          ]
        }
      ]
    },
    {
      "cell_type": "code",
      "source": [
        "# Câu hỏi 19: Tính tổng các hàng của cột Sales với điều kiện giá trị Newspaper lớn hơn giá trị trung bình của cột Newspaper:\n",
        "# Calculate the mean of the Newspaper column\n",
        "mean_newspaper = df['Newspaper'].mean()\n",
        "\n",
        "# Calculate the sum of the Sales column where Newspaper > mean_newspaper\n",
        "sum_sales = df[df['Newspaper'] > mean_newspaper]['Sales'].sum()\n",
        "\n",
        "print(f\"Sum of Sales where Newspaper > mean of Newspaper: {sum_sales}\")"
      ],
      "metadata": {
        "id": "H1Q0BxKErK0a",
        "outputId": "801c0dad-cc52-4d88-c0c8-74d0b398ef76",
        "colab": {
          "base_uri": "https://localhost:8080/"
        }
      },
      "execution_count": 19,
      "outputs": [
        {
          "output_type": "stream",
          "name": "stdout",
          "text": [
            "Sum of Sales where Newspaper > mean of Newspaper: 1405.1\n"
          ]
        }
      ]
    },
    {
      "cell_type": "code",
      "source": [
        "# Câu hỏi 20: Tạo mảng scores chứa các giá trị Good, Average và Bad dựa trên giá trị trung bình của cột Sales:\n",
        "# Calculate the mean of the Sales column\n",
        "mean_sales = df['Sales'].mean()\n",
        "\n",
        "# Create a new array scores based on the condition\n",
        "scores = ['Good' if sale > mean_sales else 'Bad' if sale < mean_sales else 'Average' for sale in df['Sales']]\n",
        "\n",
        "# Print the result for scores[7:10]\n",
        "print(scores)"
      ],
      "metadata": {
        "id": "nulWGNsbrW7D",
        "outputId": "a580ceb3-6a8a-4dbf-b502-60ee30934aaf",
        "colab": {
          "base_uri": "https://localhost:8080/"
        }
      },
      "execution_count": 21,
      "outputs": [
        {
          "output_type": "stream",
          "name": "stdout",
          "text": [
            "['Good', 'Bad', 'Bad', 'Good', 'Good', 'Bad', 'Bad', 'Bad', 'Bad', 'Good', 'Bad', 'Good', 'Bad', 'Bad', 'Good', 'Good', 'Bad', 'Good', 'Bad', 'Bad', 'Good', 'Good', 'Bad', 'Good', 'Bad', 'Good', 'Bad', 'Good', 'Good', 'Bad', 'Good', 'Bad', 'Bad', 'Good', 'Bad', 'Good', 'Good', 'Bad', 'Bad', 'Good', 'Good', 'Good', 'Good', 'Good', 'Bad', 'Good', 'Bad', 'Good', 'Good', 'Bad', 'Good', 'Bad', 'Good', 'Good', 'Good', 'Good', 'Bad', 'Bad', 'Good', 'Good', 'Bad', 'Good', 'Good', 'Bad', 'Good', 'Bad', 'Bad', 'Bad', 'Good', 'Good', 'Good', 'Bad', 'Bad', 'Bad', 'Good', 'Bad', 'Bad', 'Bad', 'Bad', 'Bad', 'Bad', 'Good', 'Bad', 'Bad', 'Good', 'Good', 'Bad', 'Good', 'Bad', 'Good', 'Bad', 'Bad', 'Good', 'Good', 'Bad', 'Good', 'Good', 'Good', 'Good', 'Good', 'Good', 'Good', 'Good', 'Good', 'Good', 'Bad', 'Bad', 'Bad', 'Bad', 'Good', 'Good', 'Good', 'Good', 'Good', 'Bad', 'Bad', 'Bad', 'Bad', 'Good', 'Bad', 'Good', 'Bad', 'Good', 'Good', 'Good', 'Bad', 'Bad', 'Bad', 'Good', 'Bad', 'Bad', 'Good', 'Bad', 'Good', 'Bad', 'Bad', 'Bad', 'Good', 'Bad', 'Good', 'Bad', 'Good', 'Good', 'Bad', 'Bad', 'Bad', 'Good', 'Good', 'Bad', 'Bad', 'Good', 'Bad', 'Good', 'Good', 'Good', 'Bad', 'Good', 'Bad', 'Bad', 'Bad', 'Good', 'Bad', 'Good', 'Good', 'Bad', 'Good', 'Bad', 'Good', 'Good', 'Good', 'Bad', 'Good', 'Bad', 'Good', 'Good', 'Good', 'Good', 'Good', 'Good', 'Good', 'Good', 'Good', 'Bad', 'Good', 'Good', 'Good', 'Bad', 'Good', 'Good', 'Bad', 'Bad', 'Bad', 'Bad', 'Good', 'Good', 'Bad', 'Bad', 'Bad', 'Good', 'Good']\n"
          ]
        }
      ]
    },
    {
      "cell_type": "code",
      "source": [
        "# Câu hỏi 21: Gọi giá trị trên cột Sales gần nhất với giá trị trung bình của cột Sales là A, tạo mảng scores:\n",
        "# Calculate the mean of the Sales column\n",
        "mean_sales = df['Sales'].mean()\n",
        "\n",
        "# Find the value in the Sales column closest to the mean\n",
        "closest_to_mean_sales = df['Sales'].iloc[(df['Sales'] - mean_sales).abs().argmin()]\n",
        "\n",
        "# Create a new array scores based on the condition\n",
        "scores = ['Good' if sale > closest_to_mean_sales else 'Bad' if sale < closest_to_mean_sales else 'Average' for sale in df['Sales']]\n",
        "\n",
        "# Print the result for scores[7:10]\n",
        "print(scores[7:10])"
      ],
      "metadata": {
        "id": "UI6pg881roHC",
        "outputId": "84fb3134-32f0-4f10-81fd-34c6858a541c",
        "colab": {
          "base_uri": "https://localhost:8080/"
        }
      },
      "execution_count": 22,
      "outputs": [
        {
          "output_type": "stream",
          "name": "stdout",
          "text": [
            "['Bad', 'Bad', 'Good']\n"
          ]
        }
      ]
    }
  ]
}