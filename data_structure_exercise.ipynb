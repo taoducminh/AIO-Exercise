{
 "cells": [
  {
   "cell_type": "code",
   "execution_count": 1,
   "metadata": {},
   "outputs": [
    {
     "name": "stdout",
     "output_type": "stream",
     "text": [
      "[5, 5, 5, 5, 10, 12, 33, 33]\n"
     ]
    }
   ],
   "source": [
    "# Câu hỏi tự luận\n",
    "#1. Cho một list các số nguyên num_list và một sliding window có kích thước size k di chuyển từ trái sang phải. Mỗi lần dịch chuyển 1 vị trí sang phải có thể nhìn thấy đươc k số trong num_list và tìm số lớn nhất trong k số này sau mỗi lần trượt k phải lớn hơn hoặc bằng 1\n",
    "def sliding_window_maximum(num_list, k):\n",
    "    if k < 1:\n",
    "        return []\n",
    "\n",
    "    max_values = []\n",
    "    for i in range(len(num_list) - k + 1):\n",
    "        window = num_list[i:i + k]\n",
    "        max_values.append(max(window))\n",
    "\n",
    "    return max_values\n",
    "\n",
    "# Example\n",
    "num_list = [3, 4, 5, 1, -44, 5, 10, 12, 33, 1]\n",
    "k = 3\n",
    "result = sliding_window_maximum(num_list, k)\n",
    "print(result)\n"
   ]
  },
  {
   "cell_type": "code",
   "execution_count": 2,
   "metadata": {},
   "outputs": [
    {
     "name": "stdout",
     "output_type": "stream",
     "text": [
      "{'h': 1, 'a': 1, 'p': 2, 'i': 1, 'n': 1, 'e': 1, 's': 2}\n",
      "{'s': 2, 'm': 1, 'i': 1, 'l': 1, 'e': 1}\n"
     ]
    }
   ],
   "source": [
    "#2. Viết function trả về một dictionary đếm số lượng chữ xuất hiện trong một từ, với key là chữ cái và value là số lần xuất hiện\n",
    "def count_chars(string):\n",
    "    # Initialize an empty dictionary to store the character counts\n",
    "    char_count = {}\n",
    "    \n",
    "    # Iterate through each character in the string\n",
    "    for char in string:\n",
    "        # Convert character to lowercase to ensure case insensitivity\n",
    "        char = char.lower()\n",
    "        # If the character is already in the dictionary, increment its count\n",
    "        if char in char_count:\n",
    "            char_count[char] += 1\n",
    "        # Otherwise, add the character to the dictionary with a count of 1\n",
    "        else:\n",
    "            char_count[char] = 1\n",
    "            \n",
    "    return char_count\n",
    "\n",
    "# Examples\n",
    "string1 = 'Happiness'\n",
    "print(count_chars(string1))  # Output: {'h': 1, 'a': 1, 'p': 2, 'i': 1, 'n': 1, 'e': 1, 's': 2}\n",
    "\n",
    "string2 = 'smiles'\n",
    "print(count_chars(string2))  # Output: {'s': 2, 'm': 1, 'i': 1, 'l': 1, 'e': 1}\n"
   ]
  },
  {
   "cell_type": "code",
   "execution_count": 12,
   "metadata": {},
   "outputs": [
    {
     "name": "stdout",
     "output_type": "stream",
     "text": [
      "{'he': 1, 'who': 3, 'conquers': 1, 'himself': 1, 'is': 3, 'the': 5, 'mightiest': 1, 'warrior': 1, 'try': 2, 'not': 1, 'to': 3, 'become': 2, 'a': 7, 'man': 6, 'of': 4, 'success': 3, 'but': 1, 'rather': 1, 'value': 1, 'one': 4, 'with': 4, 'courage': 1, 'makes': 1, 'majority': 1, 'secret': 1, 'in': 4, 'life': 2, 'for': 3, 'be': 1, 'ready': 1, 'his': 2, 'opportunity': 1, 'when': 2, 'it': 2, 'comes': 2, 'successful': 2, 'will': 2, 'profit': 1, 'from': 1, 'mistakes': 1, 'and': 1, 'again': 1, 'different': 1, 'way': 1, 'can': 3, 'lay': 1, 'firm': 1, 'foundation': 1, 'bricks': 1, 'others': 1, 'have': 1, 'thrown': 1, 'at': 1, 'him': 1, 'usually': 1, 'those': 1, 'are': 1, 'too': 1, 'busy': 1, 'looking': 1, 'we': 3, 'cannot': 1, 'solve': 1, 'problems': 1, 'kind': 1, 'thinking': 1, 'employed': 1, 'came': 1, 'up': 1, 'them': 1, 'just': 2, 'small': 1, 'positive': 1, 'thought': 1, 'morning': 1, 'change': 1, 'your': 1, 'whole': 1, 'day': 1, 'you': 3, 'get': 2, 'everything': 1, 'want': 2, 'if': 1, 'help': 1, 'enough': 1, 'other': 1, 'people': 1, 'what': 1, 'they': 1}\n"
     ]
    }
   ],
   "source": [
    "#3. Viết function đọc các câu trong một file txt, đếm số lượng các từ xuất hiện và trả về một dictionary với key là từ và value là số lần từ đó xuất hiện.\n",
    "def word_count(file_path):\n",
    "    # Initialize an empty dictionary to store the word counts\n",
    "    word_counts = {}\n",
    "    \n",
    "    # Open and read the file\n",
    "    with open(file_path, 'r', encoding='utf-8') as file:\n",
    "        for line in file:\n",
    "            # Remove newline characters and convert to lowercase\n",
    "            line = line.strip().lower()\n",
    "            # Split the line into words\n",
    "            words = line.split()\n",
    "            # Count the occurrences of each word\n",
    "            for word in words:\n",
    "                if word in word_counts:\n",
    "                    word_counts[word] += 1\n",
    "                else:\n",
    "                    word_counts[word] = 1\n",
    "    \n",
    "    return word_counts\n",
    "\n",
    "# Example usage\n",
    "file_path = '/Users/minhtao/Downloads/P1_data.txt'\n",
    "result = word_count(file_path)\n",
    "print(result)"
   ]
  },
  {
   "cell_type": "code",
   "execution_count": 7,
   "metadata": {},
   "outputs": [
    {
     "name": "stdout",
     "output_type": "stream",
     "text": [
      "Levenshtein distance between 'kitten' and 'sitting' is 3\n",
      "Levenshtein distance between 'yu' and 'you' is 1\n"
     ]
    }
   ],
   "source": [
    "#4. Khoảng cách Levenshtein.\n",
    "def levenshtein_distance(source, target):\n",
    "    # Initialize the matrix with size (len(source)+1) x (len(target)+1)\n",
    "    dp = [[0 for _ in range(len(target) + 1)] for _ in range(len(source) + 1)]\n",
    "    \n",
    "    # Fill the first row and first column with incremental costs\n",
    "    for i in range(len(source) + 1):\n",
    "        dp[i][0] = i\n",
    "    for j in range(len(target) + 1):\n",
    "        dp[0][j] = j\n",
    "\n",
    "    # Fill the matrix\n",
    "    for i in range(1, len(source) + 1):\n",
    "        for j in range(1, len(target) + 1):\n",
    "            if source[i - 1] == target[j - 1]:\n",
    "                cost = 0\n",
    "            else:\n",
    "                cost = 1\n",
    "\n",
    "            dp[i][j] = min(dp[i - 1][j] + 1,     # Deletion\n",
    "                           dp[i][j - 1] + 1,     # Insertion\n",
    "                           dp[i - 1][j - 1] + cost)  # Substitution\n",
    "\n",
    "    # The distance is the cost to transform the whole source string to the target string\n",
    "    return dp[len(source)][len(target)]\n",
    "\n",
    "# Examples\n",
    "source = \"kitten\"\n",
    "target = \"sitting\"\n",
    "print(f\"Levenshtein distance between '{source}' and '{target}' is {levenshtein_distance(source, target)}\")\n",
    "\n",
    "source = \"yu\"\n",
    "target = \"you\"\n",
    "print(f\"Levenshtein distance between '{source}' and '{target}' is {levenshtein_distance(source, target)}\")"
   ]
  },
  {
   "cell_type": "code",
   "execution_count": 8,
   "metadata": {},
   "outputs": [
    {
     "name": "stdout",
     "output_type": "stream",
     "text": [
      "[5, 5, 5, 5, 10, 12, 33, 33]\n"
     ]
    }
   ],
   "source": [
    "# Câu hỏi trắc nghiệm\n",
    "# Câu 1:\n",
    "def max_kernel(num_list, k):\n",
    "    result = []\n",
    "    \n",
    "    # Iterate over the list with a sliding window\n",
    "    for i in range(len(num_list) - k + 1):\n",
    "        # Extract the current window\n",
    "        window = num_list[i:i + k]\n",
    "        # Find the maximum value in the current window\n",
    "        max_val = max(window)\n",
    "        # Append the maximum value to the results list\n",
    "        result.append(max_val)\n",
    "    \n",
    "    return result\n",
    "\n",
    "# Testing the function with the provided assertions\n",
    "assert max_kernel([3, 4, 5, 1, -44], 3) == [5, 5, 5]\n",
    "num_list = [3, 4, 5, 1, -44, 5, 10, 12, 33, 1]\n",
    "k = 3\n",
    "print(max_kernel(num_list, k))\n"
   ]
  },
  {
   "cell_type": "code",
   "execution_count": 9,
   "metadata": {},
   "outputs": [
    {
     "name": "stdout",
     "output_type": "stream",
     "text": [
      "{'s': 2, 'm': 1, 'i': 1, 'l': 1, 'e': 1}\n"
     ]
    }
   ],
   "source": [
    "# Câu 2:\n",
    "def character_count(word):\n",
    "    character_statistic = {}\n",
    "    \n",
    "    # Iterate through each character in the word\n",
    "    for char in word:\n",
    "        # Skip spaces\n",
    "        if char == ' ':\n",
    "            continue\n",
    "        \n",
    "        # If the character is already in the dictionary, increment its count\n",
    "        if char in character_statistic:\n",
    "            character_statistic[char] += 1\n",
    "        # Otherwise, add the character to the dictionary with a count of 1\n",
    "        else:\n",
    "            character_statistic[char] = 1\n",
    "            \n",
    "    return character_statistic\n",
    "\n",
    "# Testing the function with the provided assertions\n",
    "assert character_count(\"Baby\") == {'B': 1, 'a': 1, 'b': 1, 'y': 1}\n",
    "print(character_count('smiles'))\n"
   ]
  },
  {
   "cell_type": "code",
   "execution_count": 11,
   "metadata": {},
   "outputs": [
    {
     "name": "stdout",
     "output_type": "stream",
     "text": [
      "6\n"
     ]
    }
   ],
   "source": [
    "# Câu 3:\n",
    "def count_word(file_path):\n",
    "    counter = {}\n",
    "    \n",
    "    # Open and read the file\n",
    "    with open(file_path, 'r', encoding='utf-8') as file:\n",
    "        for line in file:\n",
    "            # Remove newline characters and convert to lowercase\n",
    "            line = line.strip().lower()\n",
    "            # Split the line into words\n",
    "            words = line.split()\n",
    "            # Count the occurrences of each word\n",
    "            for word in words:\n",
    "                if word in counter:\n",
    "                    counter[word] += 1\n",
    "                else:\n",
    "                    counter[word] = 1\n",
    "    \n",
    "    return counter\n",
    "\n",
    "\n",
    "# Test the function\n",
    "file_path = '/Users/minhtao/Downloads/P1_data.txt'  # Adjust the path as needed\n",
    "result = count_word(file_path)\n",
    "assert result['who'] == 3\n",
    "print(result['man'])\n"
   ]
  },
  {
   "cell_type": "code",
   "execution_count": 13,
   "metadata": {},
   "outputs": [
    {
     "name": "stdout",
     "output_type": "stream",
     "text": [
      "3\n"
     ]
    }
   ],
   "source": [
    "# Câu 4:\n",
    "def levenshtein_distance(token1, token2):\n",
    "    # Initialize the matrix with size (len(token1)+1) x (len(token2)+1)\n",
    "    dp = [[0 for _ in range(len(token2) + 1)] for _ in range(len(token1) + 1)]\n",
    "    \n",
    "    # Fill the first row and first column with incremental costs\n",
    "    for i in range(len(token1) + 1):\n",
    "        dp[i][0] = i\n",
    "    for j in range(len(token2) + 1):\n",
    "        dp[0][j] = j\n",
    "\n",
    "    # Fill the matrix\n",
    "    for i in range(1, len(token1) + 1):\n",
    "        for j in range(1, len(token2) + 1):\n",
    "            if token1[i - 1] == token2[j - 1]:\n",
    "                cost = 0\n",
    "            else:\n",
    "                cost = 1\n",
    "\n",
    "            dp[i][j] = min(dp[i - 1][j] + 1,     # Deletion\n",
    "                           dp[i][j - 1] + 1,     # Insertion\n",
    "                           dp[i - 1][j - 1] + cost)  # Substitution\n",
    "\n",
    "    # The distance is the cost to transform the whole token1 to the whole token2\n",
    "    distance = dp[len(token1)][len(token2)]\n",
    "    return distance\n",
    "\n",
    "# Testing the function with the provided assertions\n",
    "assert levenshtein_distance(\"hi\", \"hello\") == 4.0\n",
    "print(levenshtein_distance(\"hola\", \"hello\"))"
   ]
  },
  {
   "cell_type": "code",
   "execution_count": 14,
   "metadata": {},
   "outputs": [
    {
     "name": "stdout",
     "output_type": "stream",
     "text": [
      "True\n"
     ]
    }
   ],
   "source": [
    "# Câu 5:\n",
    "def check_the_number(N):\n",
    "    list_of_numbers = []\n",
    "    result = \"\"\n",
    "    for i in range(1, 5):\n",
    "        # Append i to list_of_numbers\n",
    "        list_of_numbers.append(i)\n",
    "    \n",
    "    if N in list_of_numbers:\n",
    "        result = \"True\"\n",
    "    if N not in list_of_numbers:\n",
    "        result = \"False\"\n",
    "    \n",
    "    return result\n",
    "\n",
    "# Test cases\n",
    "N = 7\n",
    "assert check_the_number(N) == \"False\"\n",
    "\n",
    "N = 2\n",
    "result = check_the_number(N)\n",
    "print(result)\n"
   ]
  },
  {
   "cell_type": "code",
   "execution_count": 15,
   "metadata": {},
   "outputs": [
    {
     "name": "stdout",
     "output_type": "stream",
     "text": [
      "[2, 2, 2, 1, 1]\n"
     ]
    }
   ],
   "source": [
    "# Câu 6:\n",
    "def my_function(data, max, min):\n",
    "    result = []\n",
    "    for i in data:\n",
    "        # If i < min, append min to result\n",
    "        if i < min:\n",
    "            result.append(min)\n",
    "        # If i > max, append max to result\n",
    "        elif i > max:\n",
    "            result.append(max)\n",
    "        # Otherwise, append i to result\n",
    "        else:\n",
    "            result.append(i)\n",
    "    return result\n",
    "\n",
    "# Test cases\n",
    "my_list = [5, 2, 5, 0, 1]\n",
    "max = 1\n",
    "min = 0\n",
    "assert my_function(max=max, min=min, data=my_list) == [1, 1, 1, 0, 1]\n",
    "\n",
    "my_list = [10, 2, 5, 0, 1]\n",
    "max = 2\n",
    "min = 1\n",
    "print(my_function(max=max, min=min, data=my_list))\n"
   ]
  },
  {
   "cell_type": "code",
   "execution_count": 16,
   "metadata": {},
   "outputs": [
    {
     "name": "stdout",
     "output_type": "stream",
     "text": [
      "[1, 2, 3, 4, 0, 0]\n"
     ]
    }
   ],
   "source": [
    "# Câu 7:\n",
    "def my_function(x, y):\n",
    "    # Use extend to concatenate y into x\n",
    "    x.extend(y)\n",
    "    return x\n",
    "\n",
    "# Test cases\n",
    "list_num1 = ['a', 2, 5]\n",
    "list_num2 = [1, 1]\n",
    "list_num3 = [0, 0]\n",
    "\n",
    "assert my_function(list_num1, my_function(list_num2, list_num3)) == ['a', 2, 5, 1, 1, 0, 0]\n",
    "\n",
    "list_num1 = [1, 2]\n",
    "list_num2 = [3, 4]\n",
    "list_num3 = [0, 0]\n",
    "\n",
    "print(my_function(list_num1, my_function(list_num2, list_num3)))\n"
   ]
  },
  {
   "cell_type": "code",
   "execution_count": 19,
   "metadata": {},
   "outputs": [
    {
     "name": "stdout",
     "output_type": "stream",
     "text": [
      "-1\n"
     ]
    }
   ],
   "source": [
    "# Câu 8: \n",
    "def my_function(n):\n",
    "    # Return the minimum value in the list n\n",
    "    return sorted(n)[0]\n",
    "\n",
    "# Test cases\n",
    "my_list = [1, 22, 93, -100]\n",
    "assert my_function(my_list) == -100\n",
    "\n",
    "my_list = [1, 2, 3, -1]\n",
    "print(my_function(my_list))  # Expected output: -1\n"
   ]
  },
  {
   "cell_type": "code",
   "execution_count": 1,
   "metadata": {},
   "outputs": [
    {
     "name": "stdout",
     "output_type": "stream",
     "text": [
      "9\n"
     ]
    }
   ],
   "source": [
    "# Câu 9:\n",
    "def my_function(n):\n",
    "    # Return the maximum value in the list n\n",
    "    return max(n)\n",
    "\n",
    "# Test cases\n",
    "my_list = [1001, 9, 100, 0]\n",
    "assert my_function(my_list) == 1001\n",
    "\n",
    "my_list = [1, 9, 9, 0]\n",
    "print(my_function(my_list))  # Expected output: 9\n"
   ]
  },
  {
   "cell_type": "code",
   "execution_count": 2,
   "metadata": {},
   "outputs": [
    {
     "name": "stdout",
     "output_type": "stream",
     "text": [
      "True\n"
     ]
    }
   ],
   "source": [
    "# Câu 10:\n",
    "def My_function(integers, number=1):\n",
    "    # Return True if any element in integers matches number, else False\n",
    "    return any(i == number for i in integers)\n",
    "\n",
    "# Test cases\n",
    "my_list = [1, 3, 9, 4]\n",
    "assert My_function(my_list, -1) == False\n",
    "\n",
    "my_list = [1, 2, 3, 4]\n",
    "print(My_function(my_list, 2))  # Expected output: True\n"
   ]
  },
  {
   "cell_type": "code",
   "execution_count": 3,
   "metadata": {},
   "outputs": [
    {
     "name": "stdout",
     "output_type": "stream",
     "text": [
      "1.0\n"
     ]
    }
   ],
   "source": [
    "# Câu 11:\n",
    "def my_function(list_nums=[0, 1, 2]):\n",
    "    var = 0\n",
    "    for i in list_nums:\n",
    "        var += i\n",
    "    # Return the average value by dividing the sum by the number of elements\n",
    "    return var / len(list_nums)\n",
    "\n",
    "# Test cases\n",
    "assert my_function([4, 6, 8]) == 6\n",
    "print(my_function())  # Expected output: 1.0\n"
   ]
  },
  {
   "cell_type": "code",
   "execution_count": 4,
   "metadata": {},
   "outputs": [
    {
     "name": "stdout",
     "output_type": "stream",
     "text": [
      "[3, 6]\n"
     ]
    }
   ],
   "source": [
    "# Câu 12:\n",
    "def my_function(data):\n",
    "    var = []\n",
    "    for i in data:\n",
    "        # If i is divisible by 3, append it to var\n",
    "        if i % 3 == 0:\n",
    "            var.append(i)\n",
    "    return var\n",
    "\n",
    "# Test cases\n",
    "assert my_function([3, 9, 4, 5]) == [3, 9]\n",
    "print(my_function([1, 2, 3, 5, 6]))  # Expected output: [3, 6]\n"
   ]
  },
  {
   "cell_type": "code",
   "execution_count": 5,
   "metadata": {},
   "outputs": [
    {
     "name": "stdout",
     "output_type": "stream",
     "text": [
      "24\n"
     ]
    }
   ],
   "source": [
    "# Câu 13:\n",
    "def my_function(y):\n",
    "    var = 1\n",
    "    while y > 1:\n",
    "        var *= y\n",
    "        y -= 1\n",
    "    return var\n",
    "\n",
    "# Test cases\n",
    "assert my_function(8) == 40320\n",
    "print(my_function(4))  # Expected output: 24\n"
   ]
  },
  {
   "cell_type": "code",
   "execution_count": 6,
   "metadata": {},
   "outputs": [
    {
     "name": "stdout",
     "output_type": "stream",
     "text": [
      "tocirpa\n"
     ]
    }
   ],
   "source": [
    "# Câu 14:\n",
    "def my_function(x):\n",
    "    # Reverse the string using slicing\n",
    "    return x[::-1]\n",
    "\n",
    "# Test cases\n",
    "x = 'I can do it'\n",
    "assert my_function(x) == \"ti od nac I\"\n",
    "\n",
    "x = 'apricot'\n",
    "print(my_function(x))  # Expected output: tocirpa\n"
   ]
  },
  {
   "cell_type": "code",
   "execution_count": 8,
   "metadata": {},
   "outputs": [
    {
     "name": "stdout",
     "output_type": "stream",
     "text": [
      "['T', 'T', 'T', 'N']\n"
     ]
    }
   ],
   "source": [
    "# Câu 15:\n",
    "def function_helper(x):\n",
    "    # If x > 0 return 'T', else return 'N'\n",
    "    return 'T' if x > 0 else 'N'\n",
    "\n",
    "def my_function(data):\n",
    "    res = [function_helper(x) for x in data]\n",
    "    return res\n",
    "\n",
    "# Test cases\n",
    "data = [10, 0, -10, -1]\n",
    "assert my_function(data) == ['T', 'N', 'N', 'N']\n",
    "\n",
    "data = [2, 3, 5, -1]\n",
    "print(my_function(data))  # Expected output: ['T', 'T', 'T', 'N']\n"
   ]
  },
  {
   "cell_type": "code",
   "execution_count": 9,
   "metadata": {},
   "outputs": [
    {
     "name": "stdout",
     "output_type": "stream",
     "text": [
      "[9, 8, 1]\n"
     ]
    }
   ],
   "source": [
    "# Câu 16:\n",
    "def function_helper(x, data):\n",
    "    for i in data:\n",
    "        # If x is equal to i, return 0 (indicating a duplicate)\n",
    "        if x == i:\n",
    "            return 0\n",
    "    return 1  # Return 1 if x is not found in data\n",
    "\n",
    "def my_function(data):\n",
    "    res = []\n",
    "    for i in data:\n",
    "        if function_helper(i, res):\n",
    "            res.append(i)\n",
    "    return res\n",
    "\n",
    "# Test cases\n",
    "lst = [10, 10, 9, 7, 7]\n",
    "assert my_function(lst) == [10, 9, 7]\n",
    "\n",
    "lst = [9, 9, 8, 1, 1]\n",
    "print(my_function(lst))  # Expected output: [9, 8, 1]\n"
   ]
  }
 ],
 "metadata": {
  "kernelspec": {
   "display_name": "aio2024_env",
   "language": "python",
   "name": "python3"
  },
  "language_info": {
   "codemirror_mode": {
    "name": "ipython",
    "version": 3
   },
   "file_extension": ".py",
   "mimetype": "text/x-python",
   "name": "python",
   "nbconvert_exporter": "python",
   "pygments_lexer": "ipython3",
   "version": "3.11.9"
  }
 },
 "nbformat": 4,
 "nbformat_minor": 2
}
