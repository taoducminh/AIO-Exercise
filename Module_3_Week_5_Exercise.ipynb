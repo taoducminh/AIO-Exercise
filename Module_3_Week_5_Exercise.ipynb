{
  "nbformat": 4,
  "nbformat_minor": 0,
  "metadata": {
    "colab": {
      "provenance": [],
      "authorship_tag": "ABX9TyPCg35ZzfHm28PJnf5glcHq",
      "include_colab_link": true
    },
    "kernelspec": {
      "name": "python3",
      "display_name": "Python 3"
    },
    "language_info": {
      "name": "python"
    }
  },
  "cells": [
    {
      "cell_type": "markdown",
      "metadata": {
        "id": "view-in-github",
        "colab_type": "text"
      },
      "source": [
        "<a href=\"https://colab.research.google.com/github/taoducminh/AIO-Exercise/blob/feature%2Fexercise-module3-week5/Module_3_Week_5_Exercise.ipynb\" target=\"_parent\"><img src=\"https://colab.research.google.com/assets/colab-badge.svg\" alt=\"Open In Colab\"/></a>"
      ]
    },
    {
      "cell_type": "markdown",
      "source": [
        "# XGBoost Regressor"
      ],
      "metadata": {
        "id": "NHGnPctu4r7H"
      }
    },
    {
      "cell_type": "code",
      "execution_count": 1,
      "metadata": {
        "colab": {
          "base_uri": "https://localhost:8080/"
        },
        "id": "uYm_5dUt3_Zp",
        "outputId": "68fd9ba1-43d0-439c-e512-f82dc9d49b0f"
      },
      "outputs": [
        {
          "output_type": "stream",
          "name": "stdout",
          "text": [
            "Number of categories in month: 12\n",
            "Number of categories in day: 7\n",
            "Number of categories in rain: 2\n",
            "Evaluation results on test set:\n",
            "Mean Absolute Error: 1.1484401341167767\n",
            "Mean Squared Error: 1.8845074196256495\n"
          ]
        }
      ],
      "source": [
        "import numpy as np\n",
        "import pandas as pd\n",
        "import xgboost as xgb\n",
        "from sklearn.metrics import mean_squared_error, mean_absolute_error\n",
        "from sklearn.preprocessing import OrdinalEncoder\n",
        "from sklearn.model_selection import train_test_split\n",
        "\n",
        "# Load dataset\n",
        "dataset_path = '/content/Problem3.csv'\n",
        "data_df = pd.read_csv(dataset_path)\n",
        "\n",
        "# Identify categorical columns\n",
        "categorical_cols = data_df.select_dtypes(include=['object', 'bool']).columns.to_list()\n",
        "\n",
        "# Print number of unique categories in each categorical column\n",
        "for col_name in categorical_cols:\n",
        "    n_categories = data_df[col_name].nunique()\n",
        "    print(f'Number of categories in {col_name}: {n_categories}')\n",
        "\n",
        "# Ordinal encoding for categorical columns\n",
        "ordinal_encoder = OrdinalEncoder()\n",
        "encoded_categorical_cols = ordinal_encoder.fit_transform(data_df[categorical_cols])\n",
        "\n",
        "# Convert encoded categorical columns to dataframe\n",
        "encoded_categorical_df = pd.DataFrame(encoded_categorical_cols, columns=categorical_cols)\n",
        "\n",
        "# Drop original categorical columns and concatenate encoded ones\n",
        "numerical_df = data_df.drop(categorical_cols, axis=1)\n",
        "encoded_df = pd.concat([numerical_df, encoded_categorical_df], axis=1)\n",
        "\n",
        "# Separate features (X) and target variable (y)\n",
        "X = encoded_df.drop(columns=['area'])\n",
        "y = encoded_df['area']\n",
        "\n",
        "# Split dataset into training and testing sets (70% train, 30% test)\n",
        "X_train, X_test, y_train, y_test = train_test_split(X, y, test_size=0.3, random_state=7)\n",
        "\n",
        "# Build and train the XGBoost regressor model\n",
        "xg_reg = xgb.XGBRegressor(seed=7, learning_rate=0.01, n_estimators=102, max_depth=3)\n",
        "xg_reg.fit(X_train, y_train)\n",
        "\n",
        "# Make predictions on the test set\n",
        "preds = xg_reg.predict(X_test)\n",
        "\n",
        "# Evaluate model performance\n",
        "mae = mean_absolute_error(y_test, preds)\n",
        "mse = mean_squared_error(y_test, preds)\n",
        "\n",
        "# Print evaluation results\n",
        "print('Evaluation results on test set:')\n",
        "print(f'Mean Absolute Error: {mae}')\n",
        "print(f'Mean Squared Error: {mse}')"
      ]
    },
    {
      "cell_type": "markdown",
      "source": [
        "# XGBoost Classifier"
      ],
      "metadata": {
        "id": "kU3FY_if5QAh"
      }
    },
    {
      "cell_type": "code",
      "source": [
        "import numpy as np\n",
        "import pandas as pd\n",
        "import xgboost as xgb\n",
        "from sklearn.metrics import accuracy_score\n",
        "from sklearn.model_selection import train_test_split\n",
        "\n",
        "# Load dataset\n",
        "dataset_path = '/content/Problem4.csv'\n",
        "data_df = pd.read_csv(dataset_path)\n",
        "\n",
        "# Split data into features (X) and target (y)\n",
        "X, y = data_df.iloc[:, :-1], data_df.iloc[:, -1]\n",
        "\n",
        "# Split the dataset into training and testing sets (70% train, 30% test)\n",
        "X_train, X_test, y_train, y_test = train_test_split(X, y, test_size=0.3, random_state=7)\n",
        "\n",
        "# Build and train the XGBoost classifier model\n",
        "xg_class = xgb.XGBClassifier(seed=7)\n",
        "xg_class.fit(X_train, y_train)\n",
        "\n",
        "# Make predictions on the test set\n",
        "preds = xg_class.predict(X_test)\n",
        "\n",
        "# Calculate accuracy for both train and test sets\n",
        "train_acc = accuracy_score(y_train, xg_class.predict(X_train))\n",
        "test_acc = accuracy_score(y_test, preds)\n",
        "\n",
        "# Print the accuracy results\n",
        "print(f'Train ACC: {train_acc}')\n",
        "print(f'Test ACC: {test_acc}')\n"
      ],
      "metadata": {
        "colab": {
          "base_uri": "https://localhost:8080/"
        },
        "id": "KaLZB40D5RrR",
        "outputId": "4e5351d1-46bd-41e0-ddf3-6d8a1c998603"
      },
      "execution_count": 2,
      "outputs": [
        {
          "output_type": "stream",
          "name": "stdout",
          "text": [
            "Train ACC: 1.0\n",
            "Test ACC: 0.9629629629629629\n"
          ]
        }
      ]
    }
  ]
}